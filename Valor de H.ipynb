{
 "cells": [
  {
   "cell_type": "markdown",
   "id": "f46c06e8",
   "metadata": {},
   "source": [
    "50. Sendo H= 1 + 1/2 + 1/3 + 1/4 + ... + 1/N, Faça um programa que calcule o valor de H com N termos."
   ]
  },
  {
   "cell_type": "code",
   "execution_count": 2,
   "id": "5c37f953",
   "metadata": {},
   "outputs": [
    {
     "name": "stdout",
     "output_type": "stream",
     "text": [
      "Informe quantos termos a série H deve ter: 15\n",
      "\n",
      "H = 1 + 1/2 + 1/3 + 1/4 + 1/5 + 1/6 + 1/7 + 1/8 + 1/9 + 1/10 + 1/11 + 1/12 + 1/13 + 1/14 + 1/15.\n",
      "\n",
      "H = 3.32\n"
     ]
    }
   ],
   "source": [
    "termo = int(input('Informe quantos termos a série H deve ter: ')) # pedir para usuário informar quantos termos a série H deverá ter\n",
    "\n",
    "numerador = 1 # criar variável para numerador (que será sempre 1)\n",
    "serie_den = [] # criar uma lista que receberá os denominadores\n",
    "serie = [1] # criar uma lista que receberá os resultados das divisões entre numerador / serie_den (já com o primeiro termo 1)\n",
    "serie_str = [] # criar uma lista que concatenará os termos numerador/serie_den, formando posteriormente uma string a ser exibida na tela\n",
    "\n",
    "i = 1 # contador\n",
    "\n",
    "termo_den = 1 # iniciar termo que acrescentará 1 a cada denominador como 1\n",
    "\n",
    "\n",
    "while i < termo: # enquanto o contador for menor que a quantidade de termos informada pelo usuário:\n",
    "    termo_den += 1 # acrescentar 1 ao novo termo do denominador\n",
    "    serie_den.append(termo_den)  # adicionar novo denominador à serie_den\n",
    "    i += 1 # adicionar 1 ao contador\n",
    "else: # quando o contador i for igual ao termo informado pelo usuário:\n",
    "    for i, termos in enumerate(serie_den): # para cada termo da serie_den\n",
    "        termos = numerador / serie_den[i] # dividir o numerador por esse termo\n",
    "        serie.append(termos) # acrescentar à lista serie o resultado da divisão efetuada acima\n",
    "\n",
    "serie_str = ['H = 1 + '] # iniciar a lista serie_str (que será convertida em string) com 'H = 1 + '\n",
    "for i, str_termos in enumerate(serie_den): # para cada termo da serie_den\n",
    "    str_termos = str(numerador) + '/' + str(serie_den[i]) + ' + ' # concatenar numa string (termo) o numerador com seu denominador correspondente\n",
    "    serie_str.append(str_termos) # acrescentar à lista serie_str o termo formado acima (exemplo: '1/2 + ', '1/3 + ', etc.)\n",
    "\n",
    "serie_str = str(serie_str)[2:-5] # converter a lista serie_str em string para imprimir sem os colchetes e sem o último \"'+ '\"\n",
    "\n",
    "# imprimir na tela a string formada pela lista serie_str, substituindo os caracteres \"', '\" (que separa cada termo da lista) por vazio ''\n",
    "print(f'\\n{serie_str}.'.replace(\"', '\", '')) \n",
    "\n",
    "# imprimir na tela o valor de H (soma)\n",
    "print(f'\\nH = {sum(serie):.2f}') \n"
   ]
  }
 ],
 "metadata": {
  "kernelspec": {
   "display_name": "Python 3 (ipykernel)",
   "language": "python",
   "name": "python3"
  },
  "language_info": {
   "codemirror_mode": {
    "name": "ipython",
    "version": 3
   },
   "file_extension": ".py",
   "mimetype": "text/x-python",
   "name": "python",
   "nbconvert_exporter": "python",
   "pygments_lexer": "ipython3",
   "version": "3.9.7"
  }
 },
 "nbformat": 4,
 "nbformat_minor": 5
}
