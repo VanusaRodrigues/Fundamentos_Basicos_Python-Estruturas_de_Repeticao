{
 "cells": [
  {
   "cell_type": "markdown",
   "id": "bf29024b",
   "metadata": {},
   "source": [
    "# Maior valor, menor valor e soma\n",
    "\n",
    "18. Faça um programa que, dado um conjunto de N números, determine o menor valor, o maior valor e a soma dos valores."
   ]
  },
  {
   "cell_type": "code",
   "execution_count": 31,
   "id": "bddcd9cf",
   "metadata": {},
   "outputs": [
    {
     "name": "stdout",
     "output_type": "stream",
     "text": [
      "Informe um número (para finalizar aperte a tecla \"0\"): 14\n",
      "Informe um número (para finalizar aperte a tecla \"0\"): 56\n",
      "Informe um número (para finalizar aperte a tecla \"0\"): 87\n",
      "Informe um número (para finalizar aperte a tecla \"0\"): 42\n",
      "Informe um número (para finalizar aperte a tecla \"0\"): 16\n",
      "Informe um número (para finalizar aperte a tecla \"0\"): 12\n",
      "Informe um número (para finalizar aperte a tecla \"0\"): 6\n",
      "Informe um número (para finalizar aperte a tecla \"0\"): 0\n",
      "--------------------------------------------------\n",
      "[6, 12, 14, 16, 42, 56, 87]\n",
      "Soma: 233\n",
      "Maior: 87\n",
      "Menor: 6\n"
     ]
    }
   ],
   "source": [
    "lista = []\n",
    "\n",
    "numero = 1\n",
    "\n",
    "while True: # se usuário apertar a tecla '0', interromper o programa \n",
    "    if numero == 0:\n",
    "        break\n",
    "    else: # caso contrário\n",
    "        numero = int(input(f'Informe um número (para finalizar aperte a tecla \"0\"): '))\n",
    "        lista.append(numero) # acrescentar o número informado à lista\n",
    "        lista.sort() # ordenar a lista em ordem crescente\n",
    "\n",
    "lista.remove(lista[0]) # remover o índice 0 da lista. Se não o fizer, o 0 que interrompe o programa será considerado o menor valor\n",
    "    \n",
    "print('-' * 50)\n",
    "print(lista)\n",
    "print(f'Soma: {sum(lista)}')\n",
    "print(f'Maior: {max(lista)}')\n",
    "print(f'Menor: {min(lista)}')"
   ]
  }
 ],
 "metadata": {
  "kernelspec": {
   "display_name": "Python 3 (ipykernel)",
   "language": "python",
   "name": "python3"
  },
  "language_info": {
   "codemirror_mode": {
    "name": "ipython",
    "version": 3
   },
   "file_extension": ".py",
   "mimetype": "text/x-python",
   "name": "python",
   "nbconvert_exporter": "python",
   "pygments_lexer": "ipython3",
   "version": "3.9.7"
  }
 },
 "nbformat": 4,
 "nbformat_minor": 5
}
