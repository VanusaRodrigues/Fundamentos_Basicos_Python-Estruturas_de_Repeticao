{
 "cells": [
  {
   "cell_type": "markdown",
   "id": "b9c47ea2",
   "metadata": {},
   "source": [
    "25. Faça um programa que peça para n pessoas a sua idade, ao final o programa devera verificar se a média de idade da turma varia entre 0 e 25,26 e 60 e maior que 60; e então, dizer se a turma é jovem, adulta ou idosa, conforme a média calculada."
   ]
  },
  {
   "cell_type": "code",
   "execution_count": 6,
   "id": "9454670d",
   "metadata": {},
   "outputs": [
    {
     "name": "stdout",
     "output_type": "stream",
     "text": [
      "Informe a idade do 1º integrante da turma (pressione Enter para sair): -8\n",
      "Idade inválida!\n",
      "Informe novamente a idade do 1º integrante da turma (pressione Enter para sair): 8\n",
      "Informe a idade da 2º integrante da turma (pressione Enter para sair): 45\n",
      "Informe a idade da 3º integrante da turma (pressione Enter para sair): 26\n",
      "Informe a idade da 4º integrante da turma (pressione Enter para sair): -79\n",
      "Idade inválida!\n",
      "Informe novamente a idade do 4º integrante da turma (pressione Enter para sair): 79\n",
      "Informe a idade da 5º integrante da turma (pressione Enter para sair): 52\n",
      "Informe a idade da 6º integrante da turma (pressione Enter para sair): 19\n",
      "Informe a idade da 7º integrante da turma (pressione Enter para sair): 26\n",
      "Informe a idade da 8º integrante da turma (pressione Enter para sair): 42\n",
      "Informe a idade da 9º integrante da turma (pressione Enter para sair): 35\n",
      "Informe a idade da 10º integrante da turma (pressione Enter para sair): 38\n",
      "Informe a idade da 11º integrante da turma (pressione Enter para sair): \n",
      "\n",
      "Notas: 8, 45, 26, 79, 52, 19, 26, 42, 35, 38 \n",
      "Média: 37.0\n",
      "Turma adulta\n"
     ]
    }
   ],
   "source": [
    "lista_idades = [] # lista para armazenar as idades informadas no input\n",
    "media = 0 # variável que armazenará a média das idades informadas\n",
    "i = 1 # contador para aparecer no input '1º integrante', '2º integrante', etc\n",
    "\n",
    "idade = input(f'Informe a idade do {i}º integrante da turma (pressione Enter para sair): ')\n",
    "\n",
    "while idade != '': # enquanto usuário não pressionar Enter para sair do programa\n",
    "    idade = int(idade) # converte a idade informada (string) em int\n",
    "    if idade < 0: # se informar número negativo, informa que a idade é inválida e pede para tentar novamente\n",
    "        print('Idade inválida!')\n",
    "        idade = input(f'Informe novamente a idade do {i}º integrante da turma (pressione Enter para sair): ') # abre caixinha para informar idade\n",
    "    else: # se idade válida (>= 0):\n",
    "        lista_idades.append(idade) # adiciona na lista_idades\n",
    "        i += 1 # adiciona 1 ao contador\n",
    "        idade = input(f'Informe a idade da {i}º integrante da turma (pressione Enter para sair): ') # abre caixinha para informar outra idade\n",
    "        if idade == '': # se usuário pressionar Enter para sair do programa\n",
    "            media = sum(lista_idades) / len(lista_idades) # calcular a média (soma das idades / quantidade de itens na lista)\n",
    "\n",
    "lista_idades = str(lista_idades)[1:-1] # converte lista em string para não imprimir com colchetes \n",
    "                            # (converte em string e exlclui o primeiro índice (0) e o último (-1), que são os colchetes.)\n",
    "    \n",
    "print(f'\\nNotas: {lista_idades} \\nMédia: {media:.1f}') # imprime lista das idades e sua média\n",
    "\n",
    "if media >= 0 and media <= 25: # se media entre 0 e 25\n",
    "    print('Turma jovem') # imprime \"Turma jovem\"\n",
    "elif media >= 26 and media <= 60: # se media entre 26 e 60\n",
    "    print('Turma adulta') # imprime \"Turma adulta\"\n",
    "else: # se media maior que 60:\n",
    "    print('Turma idosa') # imprime \"Turma idosa\"\n"
   ]
  }
 ],
 "metadata": {
  "kernelspec": {
   "display_name": "Python 3 (ipykernel)",
   "language": "python",
   "name": "python3"
  },
  "language_info": {
   "codemirror_mode": {
    "name": "ipython",
    "version": 3
   },
   "file_extension": ".py",
   "mimetype": "text/x-python",
   "name": "python",
   "nbconvert_exporter": "python",
   "pygments_lexer": "ipython3",
   "version": "3.9.7"
  }
 },
 "nbformat": 4,
 "nbformat_minor": 5
}
