{
 "cells": [
  {
   "cell_type": "markdown",
   "id": "c18af3fa",
   "metadata": {},
   "source": [
    "# Maior número\n",
    "\n",
    "7. Faça um programa que leia 5 números e informe o maior número."
   ]
  },
  {
   "cell_type": "code",
   "execution_count": 11,
   "id": "fe90b52c",
   "metadata": {},
   "outputs": [
    {
     "name": "stdout",
     "output_type": "stream",
     "text": [
      "Número: 5.3\n",
      "Número: 7.4\n",
      "Número: 6\n",
      "Número: 1\n",
      "Número: 11.7\n",
      "O maior entre os números informados é o 11.7.\n"
     ]
    }
   ],
   "source": [
    "maior = - 99999999999999999999999999999999999999\n",
    "for i in range(5):\n",
    "    numero = float(input('Número: '))\n",
    "    if numero > maior:\n",
    "        maior = numero\n",
    "print(f'O maior entre os números informados é o {maior}.')"
   ]
  }
 ],
 "metadata": {
  "kernelspec": {
   "display_name": "Python 3 (ipykernel)",
   "language": "python",
   "name": "python3"
  },
  "language_info": {
   "codemirror_mode": {
    "name": "ipython",
    "version": 3
   },
   "file_extension": ".py",
   "mimetype": "text/x-python",
   "name": "python",
   "nbconvert_exporter": "python",
   "pygments_lexer": "ipython3",
   "version": "3.9.7"
  }
 },
 "nbformat": 4,
 "nbformat_minor": 5
}
