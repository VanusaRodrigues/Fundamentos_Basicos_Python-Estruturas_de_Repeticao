{
 "cells": [
  {
   "cell_type": "markdown",
   "id": "ce1f5cea",
   "metadata": {},
   "source": [
    "# População / Taxa de Crescimento 2\n",
    "\n",
    "5. Altere o programa anterior permitindo ao usuário informar as populações e as taxas de crescimento iniciais. Valide a entrada e permita repetir a operação."
   ]
  },
  {
   "cell_type": "code",
   "execution_count": 5,
   "id": "531ca8d3",
   "metadata": {},
   "outputs": [
    {
     "name": "stdout",
     "output_type": "stream",
     "text": [
      "Informe a população do país A: 70000\n",
      "Informe a taxa de crescimento da população do país A: 0.015\n",
      "Informe a população do país B: 70000\n",
      "Informe a taxa de crescimento da população do país A: 0.01\n",
      "População do País A já é maior ou igual a população do País B.\n",
      "Aperte C para continuar / Enter para sair: c\n",
      "Informe a população do país A: 70000\n",
      "Informe a taxa de crescimento da população do país A: 0.01\n",
      "Informe a população do país B: 50000\n",
      "Informe a taxa de crescimento da população do país A: 0.015\n",
      "População do País A já é maior ou igual a população do País B.\n",
      "Aperte C para continuar / Enter para sair: c\n",
      "Informe a população do país A: 60000\n",
      "Informe a taxa de crescimento da população do país A: 0.015\n",
      "Informe a população do país B: 80000\n",
      "Informe a taxa de crescimento da população do país A: 0.01\n",
      "Para que a população do País A ultrapasse a população do país B serão necessários 59 anos.\n",
      "O País A terá 144.427 habitantes e o País B terá 143.897 habitantes.\n",
      "Aperte C para continuar / Enter para sair: \n",
      "Programa encerrado.\n"
     ]
    }
   ],
   "source": [
    "ano = 0\n",
    "repetir = 'C'\n",
    "\n",
    "while repetir == 'C': # enquanto usuário apertar a tecla C, continuar no loop\n",
    "    hab_A = int(input('Informe a população do país A: '))\n",
    "    tx_cresc_A = float(input('Informe a taxa de crescimento da população do país A: '))\n",
    "    hab_B = int(input('Informe a população do país B: '))\n",
    "    tx_cresc_B = float(input('Informe a taxa de crescimento da população do país A: '))\n",
    "    if hab_A >= hab_B: # se população do país A já for igual ou maior que a do país B, informar\n",
    "        print('População do País A já é maior ou igual a população do País B.')\n",
    "        repetir = input('Aperte C para continuar / Enter para sair: ').upper() # upper no final para não dar erro caso usuário aperte tecla 'c' minúscula\n",
    "        if repetir == '': # se usuário apertar tecla Enter, encerrar o programa\n",
    "            print('Programa encerrado.')\n",
    "            break\n",
    "    else: # apertar tecla C, continuar os cálculos\n",
    "        while hab_A < hab_B: # se a população do país A for menor que a do país B\n",
    "            hab_A += (hab_A * tx_cresc_A) \n",
    "            hab_B += (hab_B * tx_cresc_B)\n",
    "            ano += 1\n",
    "        print(f'Para que a população do País A ultrapasse a população do país B serão necessários {ano} anos.')\n",
    "        print(f'O País A terá {hab_A:_.0f} habitantes e o País B terá {hab_B:_.0f} habitantes.'.replace('_', '.'))\n",
    "        repetir = input('Aperte C para continuar / Enter para sair: ').upper()\n",
    "        if repetir == '': # se usuário apertar tecla Enter, encerrar o programa\n",
    "            print('Programa encerrado.')\n",
    "            break"
   ]
  }
 ],
 "metadata": {
  "kernelspec": {
   "display_name": "Python 3 (ipykernel)",
   "language": "python",
   "name": "python3"
  },
  "language_info": {
   "codemirror_mode": {
    "name": "ipython",
    "version": 3
   },
   "file_extension": ".py",
   "mimetype": "text/x-python",
   "name": "python",
   "nbconvert_exporter": "python",
   "pygments_lexer": "ipython3",
   "version": "3.9.7"
  }
 },
 "nbformat": 4,
 "nbformat_minor": 5
}
