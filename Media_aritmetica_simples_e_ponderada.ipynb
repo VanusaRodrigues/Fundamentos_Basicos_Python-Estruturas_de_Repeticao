{
 "cells": [
  {
   "cell_type": "markdown",
   "id": "1af0b08b",
   "metadata": {},
   "source": [
    "24. Faça um programa que calcule o mostre a média aritmética de N notas."
   ]
  },
  {
   "cell_type": "code",
   "execution_count": 4,
   "id": "6b82cc9d",
   "metadata": {},
   "outputs": [
    {
     "name": "stdout",
     "output_type": "stream",
     "text": [
      "Informe a 1ª nota (pressione Enter para sair): 10\n",
      "Informe a 2ª nota (pressione Enter para sair): 7.7\n",
      "Informe a 3ª nota (pressione Enter para sair): 8.2\n",
      "Informe a 4ª nota (pressione Enter para sair): 4.1\n",
      "Informe a 5ª nota (pressione Enter para sair): 9.3\n",
      "Informe a 6ª nota (pressione Enter para sair): 6.7\n",
      "Informe a 7ª nota (pressione Enter para sair): 5.2\n",
      "Informe a 8ª nota (pressione Enter para sair): 3\n",
      "Informe a 9ª nota (pressione Enter para sair): 10\n",
      "Informe a 10ª nota (pressione Enter para sair): \n",
      "\n",
      "Notas: 10.0, 7.7, 8.2, 4.1, 9.3, 6.7, 5.2, 3.0, 10.0 \n",
      "Média Simples: 7.1\n"
     ]
    }
   ],
   "source": [
    "# Média Simples:\n",
    "\n",
    "lista_notas = [] # lista para armazenar as notas informadas no input\n",
    "media = 0 # variável que armazenará a média das notas informadas\n",
    "i = 1 # contador para aparecer no input '1ª nota', '2ª nota', etc\n",
    "\n",
    "notas = input(f'Informe a {i}ª nota (pressione Enter para sair): ')\n",
    "\n",
    "while notas != '': # enquanto usuário não pressionar Enter para sair do programa\n",
    "    notas = float(notas) # converte a nota informada (string) em float\n",
    "    lista_notas.append(notas) # adiciona na lista_notas\n",
    "    i += 1 # adiciona 1 ao contador\n",
    "    notas = input(f'Informe a {i}ª nota (pressione Enter para sair): ') # abre caixinha para informar nova nota\n",
    "    if notas == '': # se usuário pressionar Enter para sair do programa\n",
    "        media = sum(lista_notas) / len(lista_notas) # calcular a média (soma das notas / quantidade de itens na lista)\n",
    "\n",
    "lista_notas = str(lista_notas)[1:-1] # converte lista em string para não imprimir com colchetes \n",
    "                            # (converte em string e exlclui o primeiro índice (0) e o último (-1), que são os colchetes.)\n",
    "    \n",
    "print(f'\\nNotas: {lista_notas} \\nMédia Simples: {media:.1f}')"
   ]
  },
  {
   "cell_type": "code",
   "execution_count": 5,
   "id": "acd17800",
   "metadata": {},
   "outputs": [
    {
     "name": "stdout",
     "output_type": "stream",
     "text": [
      "Informe a 1ª nota (pressione Enter para sair): 10\n",
      "Informe o peso da 1ª nota: 4\n",
      "Informe a 2ª nota (pressione Enter para sair): 9\n",
      "Informe o peso da 2ª nota: 2\n",
      "Informe a 3ª nota (pressione Enter para sair): 8.6\n",
      "Informe o peso da 3ª nota: 3\n",
      "Informe a 4ª nota (pressione Enter para sair): 6.7\n",
      "Informe o peso da 4ª nota: 4\n",
      "Informe a 5ª nota (pressione Enter para sair): 5\n",
      "Informe o peso da 5ª nota: 1\n",
      "Informe a 6ª nota (pressione Enter para sair): \n",
      "\n",
      "Notas: 10.0, 9.0, 8.6, 6.7, 5.0 \n",
      "Média Ponderada: 23.1\n"
     ]
    }
   ],
   "source": [
    "# Média Ponderada:\n",
    "\n",
    "lista_notas = [] # lista para armazenar as notas informadas no input\n",
    "lista_notas_peso = [] # lista para armazenar as notas * peso informados no input\n",
    "media = 0 # variável que armazenará a média das notas informadas\n",
    "i = 1 # contador para aparecer no input '1ª nota', '2ª nota', etc\n",
    "\n",
    "notas = input(f'Informe a {i}ª nota (pressione Enter para sair): ')\n",
    "peso = input(f'Informe o peso da {i}ª nota: ')\n",
    "\n",
    "\n",
    "while notas != '': # enquanto usuário não pressionar Enter para sair do programa\n",
    "    notas = float(notas) # converte a nota informada (string) em float\n",
    "    peso = int(peso) # converte o peso informado (string) em int\n",
    "    lista_notas.append(notas) # adiciona na lista_notas\n",
    "    lista_notas_peso.append(notas * peso) # adiciona nota * peso na lista_notas_peso\n",
    "    i += 1 # adiciona 1 ao contador\n",
    "    notas = input(f'Informe a {i}ª nota (pressione Enter para sair): ') # abre caixinha para informar nova nota\n",
    "    if notas != '': # se usuário não pressionar Enter para sair do programa\n",
    "        peso = input(f'Informe o peso da {i}ª nota: ') # abre caixinha para informar peso da nova nota\n",
    "    elif notas == '': # caso contrário\n",
    "        media = sum(lista_notas_peso) / len(lista_notas) # calcular a média (soma das notas * peso / quantidade de itens na lista)\n",
    "        \n",
    "\n",
    "\n",
    "lista_notas = str(lista_notas)[1:-1] # converte lista em string para não printar com colchetes \n",
    "                            # (converte em string e exlclui o primeiro índice (0) e o último (-1), que são os colchetes.)\n",
    "  \n",
    "print(f'\\nNotas: {lista_notas} \\nMédia Ponderada: {media:.1f}')"
   ]
  }
 ],
 "metadata": {
  "kernelspec": {
   "display_name": "Python 3 (ipykernel)",
   "language": "python",
   "name": "python3"
  },
  "language_info": {
   "codemirror_mode": {
    "name": "ipython",
    "version": 3
   },
   "file_extension": ".py",
   "mimetype": "text/x-python",
   "name": "python",
   "nbconvert_exporter": "python",
   "pygments_lexer": "ipython3",
   "version": "3.9.7"
  }
 },
 "nbformat": 4,
 "nbformat_minor": 5
}
