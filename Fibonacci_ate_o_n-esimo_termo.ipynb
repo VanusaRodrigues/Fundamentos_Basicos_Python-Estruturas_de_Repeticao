{
 "cells": [
  {
   "cell_type": "markdown",
   "id": "cf678f7a",
   "metadata": {},
   "source": [
    "# Série de Fibonacci até o n-ésimo termo\n",
    "\n",
    "15. A série de Fibonacci é formada pela seqüência 1,1,2,3,5,8,13,21,34,55,... Faça um programa capaz de gerar a série até o n−ésimo termo."
   ]
  },
  {
   "cell_type": "code",
   "execution_count": 27,
   "id": "6430aa23",
   "metadata": {},
   "outputs": [
    {
     "name": "stdout",
     "output_type": "stream",
     "text": [
      "Informe um número: 50\n",
      "[1, 1, 2, 3, 5, 8, 13, 21, 34, 55, 89, 144, 233, 377, 610, 987, 1597, 2584, 4181, 6765, 10946, 17711, 28657, 46368, 75025, 121393, 196418, 317811, 514229, 832040, 1346269, 2178309, 3524578, 5702887, 9227465, 14930352, 24157817, 39088169, 63245986, 102334155, 165580141, 267914296, 433494437, 701408733, 1134903170, 1836311903, 2971215073, 4807526976, 7778742049, 12586269025]\n"
     ]
    }
   ],
   "source": [
    "termo = int(input('Informe um número: ')) # quantos números é para ter na sequência\n",
    "\n",
    "fibonacci = [1] # começa a sequência com o primeiro número da série de Fibonacci: 1\n",
    "\n",
    "num_sequencia = 1 # segundo número da sequência (e próximos, conforme for sendo somado no loop)\n",
    "\n",
    "i = 1 # índice\n",
    "\n",
    "while i < termo: # enquanto índice não alcançar a quantidade de termos na sequência\n",
    "    fibonacci.append(num_sequencia) # acrescenta o próximo número da sequência\n",
    "    num_sequencia += fibonacci[i -1] # próximo número = último número + antepenúltimo número\n",
    "    i += 1 # soma 1 no índice e retorna para o início do loop\n",
    "\n",
    "print(fibonacci)"
   ]
  }
 ],
 "metadata": {
  "kernelspec": {
   "display_name": "Python 3 (ipykernel)",
   "language": "python",
   "name": "python3"
  },
  "language_info": {
   "codemirror_mode": {
    "name": "ipython",
    "version": 3
   },
   "file_extension": ".py",
   "mimetype": "text/x-python",
   "name": "python",
   "nbconvert_exporter": "python",
   "pygments_lexer": "ipython3",
   "version": "3.9.7"
  }
 },
 "nbformat": 4,
 "nbformat_minor": 5
}
