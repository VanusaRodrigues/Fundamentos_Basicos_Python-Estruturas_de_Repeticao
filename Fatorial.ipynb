{
 "cells": [
  {
   "cell_type": "markdown",
   "id": "328ade2e",
   "metadata": {},
   "source": [
    "# Fatorial\n",
    "\n",
    "17. Faça um programa que calcule o fatorial de um número inteiro fornecido pelo usuário. Ex.: 5!=5.4.3.2.1=120"
   ]
  },
  {
   "cell_type": "code",
   "execution_count": 30,
   "id": "3e5d2349",
   "metadata": {},
   "outputs": [
    {
     "name": "stdout",
     "output_type": "stream",
     "text": [
      "Informe um número: 5\n",
      "5! = 120\n"
     ]
    }
   ],
   "source": [
    "numero = int(input('Informe um número: '))\n",
    "\n",
    "num = numero # armazena o número fornecido para usar no print\n",
    "num_anterior = numero - 1 # define número-1 pelo qual o número será multiplicado\n",
    "fatorial = numero # cria variável fatorial\n",
    "\n",
    "while num_anterior < numero: # enquanto número anterior for menor que o número informado\n",
    "    fatorial *= num_anterior # número X número-1\n",
    "    numero -= 1 # tira 1 do número\n",
    "    num_anterior = numero - 1 # tira 1 do número-1\n",
    "    if num_anterior == 0: # quando o número-1 for igual a 0, interrompe o programa\n",
    "        break\n",
    "\n",
    "print(f'{num}! = {fatorial}')"
   ]
  }
 ],
 "metadata": {
  "kernelspec": {
   "display_name": "Python 3 (ipykernel)",
   "language": "python",
   "name": "python3"
  },
  "language_info": {
   "codemirror_mode": {
    "name": "ipython",
    "version": 3
   },
   "file_extension": ".py",
   "mimetype": "text/x-python",
   "name": "python",
   "nbconvert_exporter": "python",
   "pygments_lexer": "ipython3",
   "version": "3.9.7"
  }
 },
 "nbformat": 4,
 "nbformat_minor": 5
}
