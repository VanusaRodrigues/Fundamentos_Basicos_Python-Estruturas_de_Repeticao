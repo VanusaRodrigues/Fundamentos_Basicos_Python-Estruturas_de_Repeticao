{
 "cells": [
  {
   "cell_type": "markdown",
   "id": "328ade2e",
   "metadata": {},
   "source": [
    "# Fatorial\n",
    "\n",
    "17. Faça um programa que calcule o fatorial de um número inteiro fornecido pelo usuário. Ex.: 5!=5.4.3.2.1=120"
   ]
  },
  {
   "cell_type": "code",
   "execution_count": 1,
   "id": "3e5d2349",
   "metadata": {},
   "outputs": [
    {
     "name": "stdout",
     "output_type": "stream",
     "text": [
      "Informe um número: 5\n",
      "\n",
      "Fatorial de: 5 \n",
      "5! = 5.4.3.2.1 = 120\n"
     ]
    }
   ],
   "source": [
    "numero = int(input('Informe um número: '))\n",
    "\n",
    "num = numero # armazena o número fornecido para usar no print (fatorial)\n",
    "num2 = numero # armazena o número fornecido para usar no print (fatoração)\n",
    "num_anterior = numero - 1 # define número-1 pelo qual o número será multiplicado\n",
    "fatorial = numero # cria variável fatorial\n",
    "\n",
    "mult_num = '' # armazena string com a representação da fatoração\n",
    "\n",
    "while num_anterior < numero: # enquanto número anterior for menor que o número informado\n",
    "    fatorial *= num_anterior # número X número-1\n",
    "    numero -= 1 # tira 1 do número\n",
    "    num_anterior = numero - 1 # tira 1 do número-1\n",
    "    if num_anterior == 0: # quando o número-1 for igual a 0, interrompe o programa\n",
    "        break\n",
    "        \n",
    "\n",
    "for i in range(num2): # enquanto contador não chegar ao número informado\n",
    "    mult_num += '.' + str(num2 - 1) # acrescente à string multi_num o próximo item da fatoração (exemplo: .4, .3, .2, .1)\n",
    "    num2 -= 1 # tira 1 do número informado\n",
    "    i += 1 # acrescenta 1 no contador\n",
    "\n",
    "# imprime x! = x.(x-1).(x-2).(x-3).(...).(x-n) = y\n",
    "print(f'\\nFatorial de: {num} \\n{num}! = {num}{mult_num[:-2]} = {fatorial}') "
   ]
  }
 ],
 "metadata": {
  "kernelspec": {
   "display_name": "Python 3 (ipykernel)",
   "language": "python",
   "name": "python3"
  },
  "language_info": {
   "codemirror_mode": {
    "name": "ipython",
    "version": 3
   },
   "file_extension": ".py",
   "mimetype": "text/x-python",
   "name": "python",
   "nbconvert_exporter": "python",
   "pygments_lexer": "ipython3",
   "version": "3.9.7"
  }
 },
 "nbformat": 4,
 "nbformat_minor": 5
}
