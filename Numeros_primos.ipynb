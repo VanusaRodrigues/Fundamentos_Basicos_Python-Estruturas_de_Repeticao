{
 "cells": [
  {
   "cell_type": "markdown",
   "id": "59fafcb6",
   "metadata": {},
   "source": [
    "21. Faça um programa que peça um número inteiro e determine se ele é ou não um número primo. Um número primo é aquele que é divisível somente por ele mesmo e por 1."
   ]
  },
  {
   "cell_type": "code",
   "execution_count": 1,
   "id": "8c15d53a",
   "metadata": {},
   "outputs": [
    {
     "name": "stdout",
     "output_type": "stream",
     "text": [
      "Informe um número (aperte \"0\" para sair): 1\n",
      "O número 1 não é primo.\n",
      "Informe um número (aperte \"0\" para sair):2\n",
      "O número 2 é primo.\n",
      "Informe um número (aperte \"0\" para sair):3\n",
      "O número 3 é primo.\n",
      "Informe um número (aperte \"0\" para sair):4\n",
      "O número 4 não é primo.\n",
      "Informe um número (aperte \"0\" para sair):5\n",
      "O número 5 é primo.\n",
      "Informe um número (aperte \"0\" para sair):6\n",
      "O número 6 não é primo.\n",
      "Informe um número (aperte \"0\" para sair):7\n",
      "O número 7 é primo.\n",
      "Informe um número (aperte \"0\" para sair):8\n",
      "O número 8 não é primo.\n",
      "Informe um número (aperte \"0\" para sair):9\n",
      "O número 9 não é primo.\n",
      "Informe um número (aperte \"0\" para sair):10\n",
      "O número 10 não é primo.\n",
      "Informe um número (aperte \"0\" para sair):11\n",
      "O número 11 é primo.\n",
      "Informe um número (aperte \"0\" para sair):159\n",
      "O número 159 não é primo.\n",
      "Informe um número (aperte \"0\" para sair):1475\n",
      "O número 1475 não é primo.\n",
      "Informe um número (aperte \"0\" para sair):357\n",
      "O número 357 não é primo.\n",
      "Informe um número (aperte \"0\" para sair):379\n",
      "O número 379 é primo.\n",
      "Informe um número (aperte \"0\" para sair):0\n",
      "Programa encerrado.\n"
     ]
    }
   ],
   "source": [
    "numero = int(input('Informe um número (aperte \"0\" para sair): '))\n",
    "\n",
    "cont = 0 # contador de quantas vezes dividiu o número por um número menor e teve resto = 0\n",
    "i = 0 # i é o número pelo qual o número informado será dividido\n",
    "    \n",
    "while True:\n",
    "    if numero == 0: # se usuário apertar a tecla '0', encerra o programa\n",
    "        print('Programa encerrado.')\n",
    "        break\n",
    "    while i <= numero or cont < 2: # enquanto índice i for menor que o número informado, ou o contador for menor que 2\n",
    "        i += 1 # vai acrescentando 1 até chegar no i igual o próprio número, então para\n",
    "        resto = numero % i # divide número informado pelo índice i\n",
    "        if resto == 0: # se o resto for igual a 0\n",
    "            cont = cont + 1 # acrescenta 1 no contador\n",
    "            while i == numero and cont == 2: # quando i for igual ao número informado, \n",
    "                                    # se contador = 2 (ou seja, só teve resto = 0 dividindo por ele mesmo e por 1, então é primo)\n",
    "                if numero == 0: # se número = 0, encerra o programa\n",
    "                    break\n",
    "                else: # imprime que é primo e zera contador e índice, abrindo caixinha para inserir novo número\n",
    "                    print(f'O número {numero} é primo.')\n",
    "                    numero = int(input('Informe um número (aperte \"0\" para sair):'))\n",
    "                    cont = 0\n",
    "                    i = 0\n",
    "            while i == numero and cont != 2: # quando i for igual ao número informado, se contador != 2 \n",
    "                                # (ou seja, teve resto = 0 dividindo por outros números além dele mesmo e por 1, então não é primo)\n",
    "                if numero == 0: # se número = 0, encerra o programa\n",
    "                    break\n",
    "                else: # imprime que não é primo e zera contador e índice, abrindo caixinha para inserir novo número\n",
    "                    print(f'O número {numero} não é primo.')\n",
    "                    numero = int(input('Informe um número (aperte \"0\" para sair):'))\n",
    "                    cont = 0\n",
    "                    i = 0\n"
   ]
  }
 ],
 "metadata": {
  "kernelspec": {
   "display_name": "Python 3 (ipykernel)",
   "language": "python",
   "name": "python3"
  },
  "language_info": {
   "codemirror_mode": {
    "name": "ipython",
    "version": 3
   },
   "file_extension": ".py",
   "mimetype": "text/x-python",
   "name": "python",
   "nbconvert_exporter": "python",
   "pygments_lexer": "ipython3",
   "version": "3.9.7"
  }
 },
 "nbformat": 4,
 "nbformat_minor": 5
}
