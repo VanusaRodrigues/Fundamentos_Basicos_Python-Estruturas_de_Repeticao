{
 "cells": [
  {
   "cell_type": "markdown",
   "id": "f8a7eeb6",
   "metadata": {},
   "source": [
    "# Tabuada\n",
    "\n",
    "12. Desenvolva um gerador de tabuada, capaz de gerar a tabuada de qualquer número inteiro entre 1 a 10. O usuário deve informar de qual numero ele deseja ver a tabuada. A saída deve ser conforme o exemplo abaixo: <br>\n",
    "Tabuada de 5: <br>\n",
    "5 X 1 = 5 <br>\n",
    "5 X 2 = 10 <br>\n",
    "... <br>\n",
    "5 X 10 = 50"
   ]
  },
  {
   "cell_type": "code",
   "execution_count": 23,
   "id": "a954ba45",
   "metadata": {},
   "outputs": [
    {
     "name": "stdout",
     "output_type": "stream",
     "text": [
      "Informe de qual número você deseja ver a tabuada: 5\n",
      "\n",
      "Tabuada de 5: \n",
      "5 X 1 = 5\n",
      "5 X 2 = 10\n",
      "5 X 3 = 15\n",
      "5 X 4 = 20\n",
      "5 X 5 = 25\n",
      "5 X 6 = 30\n",
      "5 X 7 = 35\n",
      "5 X 8 = 40\n",
      "5 X 9 = 45\n",
      "5 X 10 = 50\n"
     ]
    }
   ],
   "source": [
    "numero = int(input('Informe de qual número você deseja ver a tabuada: '))\n",
    "\n",
    "lista = [1, 2, 3, 4, 5, 6, 7, 8, 9, 10]\n",
    "tabuada = []\n",
    "\n",
    "for i in range(len(lista)):\n",
    "    resultado = numero * lista[i] # número X 1, número X 2 ... número X 10\n",
    "    tabuada.append(resultado) # acrescenta resultados na lista tabuada\n",
    "    \n",
    "print(f'\\nTabuada de {numero}: ')\n",
    "for i in range(len(tabuada)):\n",
    "    print(f'{numero} X {lista[i]} = {tabuada[i]}')"
   ]
  }
 ],
 "metadata": {
  "kernelspec": {
   "display_name": "Python 3 (ipykernel)",
   "language": "python",
   "name": "python3"
  },
  "language_info": {
   "codemirror_mode": {
    "name": "ipython",
    "version": 3
   },
   "file_extension": ".py",
   "mimetype": "text/x-python",
   "name": "python",
   "nbconvert_exporter": "python",
   "pygments_lexer": "ipython3",
   "version": "3.9.7"
  }
 },
 "nbformat": 4,
 "nbformat_minor": 5
}
