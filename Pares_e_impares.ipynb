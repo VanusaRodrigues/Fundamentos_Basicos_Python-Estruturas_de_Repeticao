{
 "cells": [
  {
   "cell_type": "markdown",
   "id": "90aadd6f",
   "metadata": {},
   "source": [
    "# Pares e ímpares\n",
    "\n",
    "14. Faça um programa que peça 10 números inteiros, calcule e mostre a quantidade de números pares e a quantidade de números impares."
   ]
  },
  {
   "cell_type": "code",
   "execution_count": 26,
   "id": "de7a591e",
   "metadata": {},
   "outputs": [
    {
     "name": "stdout",
     "output_type": "stream",
     "text": [
      "Informe o 1º número: 10\n",
      "Informe o 2º número: 47\n",
      "Informe o 3º número: 52\n",
      "Informe o 4º número: 56\n",
      "Informe o 5º número: 59\n",
      "Informe o 6º número: 847\n",
      "Informe o 7º número: 5641\n",
      "Informe o 8º número: 258\n",
      "Informe o 9º número: 65410\n",
      "Informe o 10º número: 258\n",
      "\n",
      "Os números informados foram: 10, 47, 52, 56, 59, 847, 5641, 258, 65410, 258.\n",
      "\n",
      "6 dos números informados são pares.\n",
      "\n",
      "4 dos números informados são ímpares.\n"
     ]
    }
   ],
   "source": [
    "lista = []\n",
    "i = 0\n",
    "\n",
    "# pedindo os 10 números ao usuário:\n",
    "for i in range(10):\n",
    "    numero = int(input(f'Informe o {i + 1}º número: '))\n",
    "    lista.append(numero)\n",
    "\n",
    "pares = []\n",
    "impares = []\n",
    "\n",
    "for i in range(len(lista)):\n",
    "    if lista[i] % 2: # se divisão por 2 deixar resto\n",
    "        impares.append(lista[i]) # acrescenta na lista de ímpares\n",
    "    else: # se não deixar resto\n",
    "        pares.append(lista[i]) # acrescenta na lista de pares\n",
    "\n",
    "lista = str(lista)[1:-1] # converte lista em string para não imprimir os colchetes \n",
    "                            # (converte em string e exlclui o primeiro índice (0) e o último (-1), que são os colchetes.)\n",
    "\n",
    "print(f'\\nOs números informados foram: {lista}.')\n",
    "print(f'\\n{len(pares)} dos números informados são pares.')\n",
    "print(f'\\n{len(impares)} dos números informados são ímpares.')"
   ]
  }
 ],
 "metadata": {
  "kernelspec": {
   "display_name": "Python 3 (ipykernel)",
   "language": "python",
   "name": "python3"
  },
  "language_info": {
   "codemirror_mode": {
    "name": "ipython",
    "version": 3
   },
   "file_extension": ".py",
   "mimetype": "text/x-python",
   "name": "python",
   "nbconvert_exporter": "python",
   "pygments_lexer": "ipython3",
   "version": "3.9.7"
  }
 },
 "nbformat": 4,
 "nbformat_minor": 5
}
