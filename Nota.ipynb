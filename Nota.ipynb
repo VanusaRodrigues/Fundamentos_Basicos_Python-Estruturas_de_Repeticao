{
 "cells": [
  {
   "cell_type": "markdown",
   "id": "e51bc96f",
   "metadata": {},
   "source": [
    "# Nota \n",
    "\n",
    "1. Faça um programa que peça uma nota, entre zero e dez. Mostre uma mensagem caso o valor seja inválido e continue pedindo até que o usuário informe um valor válido."
   ]
  },
  {
   "cell_type": "code",
   "execution_count": 1,
   "id": "7a66299f",
   "metadata": {},
   "outputs": [
    {
     "name": "stdout",
     "output_type": "stream",
     "text": [
      "Informe uma nota de 0 a 10: 11\n",
      "Valor inválido! Informe uma nota de 0 a 10: -1\n",
      "Valor inválido! Informe uma nota de 0 a 10: 7\n",
      "Nota informada: 7\n"
     ]
    }
   ],
   "source": [
    "nota = int(input('Informe uma nota de 0 a 10: '))\n",
    "\n",
    "while nota < 0 or nota > 10:\n",
    "    nota = int(input('Valor inválido! Informe uma nota de 0 a 10: '))\n",
    "\n",
    "print(f'Nota informada: {nota}')"
   ]
  }
 ],
 "metadata": {
  "kernelspec": {
   "display_name": "Python 3 (ipykernel)",
   "language": "python",
   "name": "python3"
  },
  "language_info": {
   "codemirror_mode": {
    "name": "ipython",
    "version": 3
   },
   "file_extension": ".py",
   "mimetype": "text/x-python",
   "name": "python",
   "nbconvert_exporter": "python",
   "pygments_lexer": "ipython3",
   "version": "3.9.7"
  }
 },
 "nbformat": 4,
 "nbformat_minor": 5
}
