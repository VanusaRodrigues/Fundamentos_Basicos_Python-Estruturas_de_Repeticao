{
 "cells": [
  {
   "cell_type": "markdown",
   "id": "52b45254",
   "metadata": {},
   "source": [
    "26. Numa eleição existem três candidatos. Faça um programa que peça o número total de eleitores. Peça para cada eleitor votar e ao final mostrar o número de votos de cada candidato."
   ]
  },
  {
   "cell_type": "code",
   "execution_count": 8,
   "id": "0d80fe61",
   "metadata": {},
   "outputs": [
    {
     "name": "stdout",
     "output_type": "stream",
     "text": [
      "Informe a quantidade de eleitores: 30\n",
      "Seu voto vai para qual candidato? Digite 1, 2 ou 3 (ou qualquer outra tecla para votar nulo): 2\n",
      "Seu voto vai para qual candidato? Digite 1, 2 ou 3 (ou qualquer outra tecla para votar nulo): 1\n",
      "Seu voto vai para qual candidato? Digite 1, 2 ou 3 (ou qualquer outra tecla para votar nulo): 3\n",
      "Seu voto vai para qual candidato? Digite 1, 2 ou 3 (ou qualquer outra tecla para votar nulo): 0\n",
      "Seu voto vai para qual candidato? Digite 1, 2 ou 3 (ou qualquer outra tecla para votar nulo): 0\n",
      "Seu voto vai para qual candidato? Digite 1, 2 ou 3 (ou qualquer outra tecla para votar nulo): l\n",
      "Seu voto vai para qual candidato? Digite 1, 2 ou 3 (ou qualquer outra tecla para votar nulo): p\n",
      "Seu voto vai para qual candidato? Digite 1, 2 ou 3 (ou qualquer outra tecla para votar nulo): i\n",
      "Seu voto vai para qual candidato? Digite 1, 2 ou 3 (ou qualquer outra tecla para votar nulo): \n",
      "Seu voto vai para qual candidato? Digite 1, 2 ou 3 (ou qualquer outra tecla para votar nulo): \n",
      "Seu voto vai para qual candidato? Digite 1, 2 ou 3 (ou qualquer outra tecla para votar nulo): \n",
      "Seu voto vai para qual candidato? Digite 1, 2 ou 3 (ou qualquer outra tecla para votar nulo): \n",
      "Seu voto vai para qual candidato? Digite 1, 2 ou 3 (ou qualquer outra tecla para votar nulo): 5\n",
      "Seu voto vai para qual candidato? Digite 1, 2 ou 3 (ou qualquer outra tecla para votar nulo): 2\n",
      "Seu voto vai para qual candidato? Digite 1, 2 ou 3 (ou qualquer outra tecla para votar nulo): 1\n",
      "Seu voto vai para qual candidato? Digite 1, 2 ou 3 (ou qualquer outra tecla para votar nulo): 3\n",
      "Seu voto vai para qual candidato? Digite 1, 2 ou 3 (ou qualquer outra tecla para votar nulo): 8\n",
      "Seu voto vai para qual candidato? Digite 1, 2 ou 3 (ou qualquer outra tecla para votar nulo): 3\n",
      "Seu voto vai para qual candidato? Digite 1, 2 ou 3 (ou qualquer outra tecla para votar nulo): 0\n",
      "Seu voto vai para qual candidato? Digite 1, 2 ou 3 (ou qualquer outra tecla para votar nulo): 2\n",
      "Seu voto vai para qual candidato? Digite 1, 2 ou 3 (ou qualquer outra tecla para votar nulo): 1\n",
      "Seu voto vai para qual candidato? Digite 1, 2 ou 3 (ou qualquer outra tecla para votar nulo): 2\n",
      "Seu voto vai para qual candidato? Digite 1, 2 ou 3 (ou qualquer outra tecla para votar nulo): 2\n",
      "Seu voto vai para qual candidato? Digite 1, 2 ou 3 (ou qualquer outra tecla para votar nulo): 2\n",
      "Seu voto vai para qual candidato? Digite 1, 2 ou 3 (ou qualquer outra tecla para votar nulo): 2\n",
      "Seu voto vai para qual candidato? Digite 1, 2 ou 3 (ou qualquer outra tecla para votar nulo): 1\n",
      "Seu voto vai para qual candidato? Digite 1, 2 ou 3 (ou qualquer outra tecla para votar nulo): 3\n",
      "Seu voto vai para qual candidato? Digite 1, 2 ou 3 (ou qualquer outra tecla para votar nulo): 3\n",
      "Seu voto vai para qual candidato? Digite 1, 2 ou 3 (ou qualquer outra tecla para votar nulo): 3\n",
      "Seu voto vai para qual candidato? Digite 1, 2 ou 3 (ou qualquer outra tecla para votar nulo): 2\n",
      "\n",
      "QUANTIDADE DE VOTOS:\n",
      "--------------------\n",
      "\n",
      "Candidato 1: 4 votos\n",
      "\n",
      "Candidato 2: 8 votos\n",
      "\n",
      "Candidato 3: 6 votos\n",
      "\n",
      "Votos Nulos: 12 votos\n"
     ]
    }
   ],
   "source": [
    "qtde_eleitores = int(input('Informe a quantidade de eleitores: ')) # armazena a quantidade de eleitores informada\n",
    "\n",
    "candidato_1 = 0 # contador do candidato 1\n",
    "candidato_2 = 0 # contador do candidato 2\n",
    "candidato_3 = 0 # contador do candidato 3\n",
    "votos_nulo = 0 # contador dos votos nulos\n",
    "\n",
    "\n",
    "for i in range(qtde_eleitores): # para a quantidade de eleitores informados no input acima, repita:\n",
    "    voto = (input('Seu voto vai para qual candidato? Digite 1, 2 ou 3 (ou qualquer outra tecla para votar nulo): ')) # Digite o voto\n",
    "    if voto == '1': # se usuário digita 1\n",
    "        candidato_1 += 1 # acrescenta 1 no contador do candidato 1\n",
    "    elif voto == '2': # se usuário digita 2\n",
    "        candidato_2 += 1 # acrescenta 1 no contador do candidato 2\n",
    "    elif voto == '3': # se usuário digita 3\n",
    "        candidato_3 += 1 # acrescenta 1 no contador do candidato 3\n",
    "    else: # se usuário aperta qualquer outra tecla\n",
    "        votos_nulo += 1 # acrescenta 1 no contador dos votos nulos\n",
    "\n",
    "# imprime a soma dos votos na tela\n",
    "print('\\nQUANTIDADE DE VOTOS:')\n",
    "print('-' * 20)\n",
    "print(f'\\nCandidato 1: {candidato_1} votos')\n",
    "print(f'\\nCandidato 2: {candidato_2} votos')\n",
    "print(f'\\nCandidato 3: {candidato_3} votos')\n",
    "print(f'\\nVotos Nulos: {votos_nulo} votos')\n"
   ]
  }
 ],
 "metadata": {
  "kernelspec": {
   "display_name": "Python 3 (ipykernel)",
   "language": "python",
   "name": "python3"
  },
  "language_info": {
   "codemirror_mode": {
    "name": "ipython",
    "version": 3
   },
   "file_extension": ".py",
   "mimetype": "text/x-python",
   "name": "python",
   "nbconvert_exporter": "python",
   "pygments_lexer": "ipython3",
   "version": "3.9.7"
  }
 },
 "nbformat": 4,
 "nbformat_minor": 5
}
