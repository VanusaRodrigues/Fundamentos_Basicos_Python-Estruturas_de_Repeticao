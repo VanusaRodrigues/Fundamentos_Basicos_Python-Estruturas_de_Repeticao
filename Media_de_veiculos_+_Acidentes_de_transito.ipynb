{
 "cells": [
  {
   "cell_type": "markdown",
   "id": "94703b3f",
   "metadata": {},
   "source": [
    "40. Foi feita uma estatística em cinco cidades brasileiras para coletar dados sobre acidentes de trânsito. Foram obtidos os seguintes dados: <br>\n",
    "a) Código da cidade; <br>\n",
    "b) Número de veículos de passeio (em 1999); <br>\n",
    "c) Número de acidentes de trânsito com vítimas (em 1999). Deseja-se saber: <br>\n",
    "d) Qual o maior e menor índice de acidentes de transito e a que cidade pertence; <br>\n",
    "e) Qual a média de veículos nas cinco cidades juntas; <br>\n",
    "f) Qual a média de acidentes de trânsito nas cidades com menos de 2.000 veículos de passeio."
   ]
  },
  {
   "cell_type": "code",
   "execution_count": 1,
   "id": "00afe626",
   "metadata": {},
   "outputs": [
    {
     "name": "stdout",
     "output_type": "stream",
     "text": [
      "Informe o código da cidade: 1\n",
      "Informe a quantidade de veículos de passeio existentes (em 1999): 1985\n",
      "Informe o número de acidentes de trânsito com vítimas (em 1999): 45\n",
      "Informe o código da cidade: 2\n",
      "Informe a quantidade de veículos de passeio existentes (em 1999): 1877\n",
      "Informe o número de acidentes de trânsito com vítimas (em 1999): 56\n",
      "Informe o código da cidade: 3\n",
      "Informe a quantidade de veículos de passeio existentes (em 1999): 1520\n",
      "Informe o número de acidentes de trânsito com vítimas (em 1999): 84\n",
      "Informe o código da cidade: 4\n",
      "Informe a quantidade de veículos de passeio existentes (em 1999): 2000\n",
      "Informe o número de acidentes de trânsito com vítimas (em 1999): 102\n",
      "Informe o código da cidade: 5\n",
      "Informe a quantidade de veículos de passeio existentes (em 1999): 3052\n",
      "Informe o número de acidentes de trânsito com vítimas (em 1999): 118\n",
      "\n",
      "O menor índice de acidentes de trânsito foi de 45 na cidade nº 1.\n",
      "\n",
      "O maior índice de acidentes de trânsito foi de 118 na cidade nº 5.\n",
      "\n",
      "A média de veículos de passeio das cinco cidades é de 2086.80 veículos.\n",
      "\n",
      "A média de acidentes de trânsito nas cidades com menos de 2.000 veículos de passeio é de 61.67 acidentes.\n"
     ]
    }
   ],
   "source": [
    "i = 0 # contador\n",
    "\n",
    "lista_cidades = [] # lista que receberá os códigos das cidades\n",
    "lista_veiculos = [] # lista que receberá a quantidade de veículos das cidades\n",
    "lista_acidentes = [] # lista que receberá a quantidade de acidentes das cidades\n",
    "lista_2000 = [] # lista que receberá a quantidade de acidentes nas cidades com menos de 2000 veículos\n",
    "\n",
    "\n",
    "while i < 5: # enquanto o contador for menor que 5:\n",
    "    cidade = int(input('Informe o código da cidade: ')) # pedir código da cidade\n",
    "    veiculos = int(input('Informe a quantidade de veículos de passeio existentes (em 1999): ')) # pedir quantidade de veículos\n",
    "    acidentes = int(input('Informe o número de acidentes de trânsito com vítimas (em 1999): ')) # pedir quantidade de acidentes\n",
    "    lista_cidades.append(cidade) # adicionar código da cidade à lista_cidades\n",
    "    lista_veiculos.append(veiculos) # adicionar quantidade de veículos à lista_veiculos\n",
    "    lista_acidentes.append(acidentes) # adicionar quantidade de acidentes à lista_acidentes\n",
    "    i += 1 # acrescentar 1 ao contador\n",
    "\n",
    "for i, acidente in enumerate(lista_acidentes): # para cada item da lista_acidentes, enumerar:\n",
    "    if acidente == max(lista_acidentes): # quando o item for o maior da lista_acidentes, imprimir na tela o item e sua cidade correspondente\n",
    "        print(f'\\nO maior índice de acidentes de trânsito foi de {max(lista_acidentes)} na cidade nº {lista_cidades[i]}.')\n",
    "    if acidente == min(lista_acidentes): # quando o item for o menor da lista_acidentes, imprimir na tela o item e sua cidade correspondente\n",
    "        print(f'\\nO menor índice de acidentes de trânsito foi de {min(lista_acidentes)} na cidade nº {lista_cidades[i]}.')\n",
    "\n",
    "# imprimir na tela a média de veículos de passeio das cinco cidades        \n",
    "print(f'\\nA média de veículos de passeio das cinco cidades é de {sum(lista_veiculos) / len(lista_veiculos):.2f} veículos.')\n",
    "\n",
    "\n",
    "for i, veiculo in enumerate(lista_veiculos): # para cada item da lista_veiculos, enumerar:\n",
    "    if lista_veiculos[i] < 2000: # quando a quantidade de veículos for menor que 2000\n",
    "        lista_2000.append(lista_acidentes[i]) # adicionar a quantidade de acidentes correspondente à lista_2000\n",
    "        \n",
    "# imprimir na tela a média de acidentes de trânsito nas cidades com menos de 2000 veículos de passeio        \n",
    "print(f'\\nA média de acidentes de trânsito nas cidades com menos de 2.000 veículos de passeio é de {sum(lista_2000) / len(lista_2000):.2f} acidentes.')\n",
    "        "
   ]
  }
 ],
 "metadata": {
  "kernelspec": {
   "display_name": "Python 3 (ipykernel)",
   "language": "python",
   "name": "python3"
  },
  "language_info": {
   "codemirror_mode": {
    "name": "ipython",
    "version": 3
   },
   "file_extension": ".py",
   "mimetype": "text/x-python",
   "name": "python",
   "nbconvert_exporter": "python",
   "pygments_lexer": "ipython3",
   "version": "3.9.7"
  }
 },
 "nbformat": 4,
 "nbformat_minor": 5
}
