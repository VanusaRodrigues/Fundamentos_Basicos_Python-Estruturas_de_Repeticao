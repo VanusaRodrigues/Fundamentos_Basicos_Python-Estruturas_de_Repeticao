{
 "cells": [
  {
   "cell_type": "markdown",
   "id": "ca114d88",
   "metadata": {},
   "source": [
    "42. Faça um programa que leia uma quantidade indeterminada de números positivos e conte quantos deles estão nos seguintes intervalos: [0-25], [26-50], [51-75] e [76-100]. A entrada de dados deverá terminar quando for lido um número negativo."
   ]
  },
  {
   "cell_type": "code",
   "execution_count": 3,
   "id": "7e43d507",
   "metadata": {},
   "outputs": [
    {
     "name": "stdout",
     "output_type": "stream",
     "text": [
      "Informe um número positivo (para sair insira um número negativo): 15.8\n",
      "Informe um número positivo (para sair insira um número negativo): 2\n",
      "Informe um número positivo (para sair insira um número negativo): 24.3\n",
      "Informe um número positivo (para sair insira um número negativo): 30\n",
      "Informe um número positivo (para sair insira um número negativo): 0\n",
      "Informe um número positivo (para sair insira um número negativo): 84.3\n",
      "Informe um número positivo (para sair insira um número negativo): 97.2\n",
      "Informe um número positivo (para sair insira um número negativo): 61\n",
      "Informe um número positivo (para sair insira um número negativo): 52.7\n",
      "Informe um número positivo (para sair insira um número negativo): 42.6\n",
      "Informe um número positivo (para sair insira um número negativo): 33\n",
      "Informe um número positivo (para sair insira um número negativo): 100\n",
      "Informe um número positivo (para sair insira um número negativo): 100.5\n",
      "Informe um número positivo (para sair insira um número negativo): 200\n",
      "Informe um número positivo (para sair insira um número negativo): -1\n",
      "Programa encerrado.\n",
      "\n",
      "Dos números informados: \n",
      "4 pertencem ao intervalo [0-25]\n",
      "3 pertencem ao intervalo [26-50]\n",
      "2 pertencem ao intervalo [51-75]\n",
      "3 pertencem ao intervalo [76-100]\n"
     ]
    }
   ],
   "source": [
    "numero = float(input('Informe um número positivo (para sair insira um número negativo): ')) # pedir o 1º número\n",
    "\n",
    "i_ate_25 = 0 # contador de 0 a 25\n",
    "i_ate_50 = 0 # contador de 26 a 50\n",
    "i_ate_75 = 0 # contador de 51 a 75\n",
    "i_ate_100 = 0 # contador de 76 a 100\n",
    "\n",
    "\n",
    "while numero >= 0: # enquanto o número informado for maior ou igual a 0\n",
    "    if numero <= 25: # se número for de 0 a 25\n",
    "        i_ate_25 += 1 # adiciona 1 ao contador de 0 a 25\n",
    "        numero = float(input('Informe um número positivo (para sair insira um número negativo): ')) # pedir mais um número\n",
    "    elif numero <= 50: # se número for de 26 a 50\n",
    "        i_ate_50 += 1 # adiciona 1 ao contador de 26 a 50\n",
    "        numero = float(input('Informe um número positivo (para sair insira um número negativo): ')) # pedir mais um número\n",
    "    elif numero <= 75: # se número for de 51 a 75\n",
    "        i_ate_75 += 1 # adiciona 1 ao contador de 51 a 75\n",
    "        numero = float(input('Informe um número positivo (para sair insira um número negativo): ')) # pedir mais um número\n",
    "    elif numero <= 100: # se número for de 76 a 100\n",
    "        i_ate_100 += 1 # adiciona 1 ao contador de 76 a 100\n",
    "        numero = float(input('Informe um número positivo (para sair insira um número negativo): ')) # pedir mais um número\n",
    "    elif numero > 100: # se número for maior que 100\n",
    "        numero = float(input('Informe um número positivo (para sair insira um número negativo): ')) # pedir mais um número\n",
    "else: # quando o usuário digitar um número negativo\n",
    "    print('Programa encerrado.') # encerrar programa, imprimindo na tela\n",
    "\n",
    "# imprimir resultados dos contadores    \n",
    "print('\\nDos números informados: ')\n",
    "print(f'{i_ate_25} pertencem ao intervalo [0-25]')\n",
    "print(f'{i_ate_50} pertencem ao intervalo [26-50]')\n",
    "print(f'{i_ate_75} pertencem ao intervalo [51-75]')\n",
    "print(f'{i_ate_100} pertencem ao intervalo [76-100]')\n",
    "    "
   ]
  }
 ],
 "metadata": {
  "kernelspec": {
   "display_name": "Python 3 (ipykernel)",
   "language": "python",
   "name": "python3"
  },
  "language_info": {
   "codemirror_mode": {
    "name": "ipython",
    "version": 3
   },
   "file_extension": ".py",
   "mimetype": "text/x-python",
   "name": "python",
   "nbconvert_exporter": "python",
   "pygments_lexer": "ipython3",
   "version": "3.9.7"
  }
 },
 "nbformat": 4,
 "nbformat_minor": 5
}
