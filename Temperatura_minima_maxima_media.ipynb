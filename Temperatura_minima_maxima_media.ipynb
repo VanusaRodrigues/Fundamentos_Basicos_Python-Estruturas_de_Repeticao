{
 "cells": [
  {
   "cell_type": "markdown",
   "id": "a78e8775",
   "metadata": {},
   "source": [
    "33. O Departamento Estadual de Meteorologia lhe contratou para desenvolver um programa que leia um conjunto indeterminado de temperaturas, e informe ao final a menor e a maior temperaturas informadas, bem como a média das temperaturas."
   ]
  },
  {
   "cell_type": "code",
   "execution_count": 1,
   "id": "9eb341c1",
   "metadata": {},
   "outputs": [
    {
     "name": "stdout",
     "output_type": "stream",
     "text": [
      "Informe a 1ª temperatura (pressione Enter para sair): 34.1\n",
      "Informe a 2ª temperatura (pressione Enter para sair): 15\n",
      "Informe a 3ª temperatura (pressione Enter para sair): 8.5\n",
      "Informe a 4ª temperatura (pressione Enter para sair): 4.3\n",
      "Informe a 5ª temperatura (pressione Enter para sair): 40.2\n",
      "Informe a 6ª temperatura (pressione Enter para sair): 25\n",
      "Informe a 7ª temperatura (pressione Enter para sair): 27.6\n",
      "Informe a 8ª temperatura (pressione Enter para sair): \n",
      "\n",
      "Menor temperatura: 4.3\n",
      "Maior temperatura: 40.2\n",
      "Temperatura média: 22.1\n"
     ]
    }
   ],
   "source": [
    "lista_temp = [] # lista para armazenar as temperaturas informadas no input\n",
    "i = 1 # contador para aparecer no input '1ª temperatura', '2ª temperatura', etc\n",
    "\n",
    "temperatura = input(f'Informe a {i}ª temperatura (pressione Enter para sair): ')\n",
    "\n",
    "while temperatura != '': # enquanto usuário não pressionar Enter para sair do programa\n",
    "    temperatura = float(temperatura) # converte a temperatura informada (string) em float\n",
    "    lista_temp.append(temperatura) # adiciona temperatura informada na lista_temp\n",
    "    i += 1 # adiciona 1 ao contador\n",
    "    temperatura = input(f'Informe a {i}ª temperatura (pressione Enter para sair): ') # abre caixinha para informar outra temperatura\n",
    "\n",
    "print(f'\\nMenor temperatura: {min(lista_temp)}') # imprime temperatura mínima\n",
    "print(f'Maior temperatura: {max(lista_temp)}') # imprime temperatura máxima\n",
    "print(f'Temperatura média: {(sum(lista_temp) / len(lista_temp)):.1f}') # imprime temperatura média\n"
   ]
  }
 ],
 "metadata": {
  "kernelspec": {
   "display_name": "Python 3 (ipykernel)",
   "language": "python",
   "name": "python3"
  },
  "language_info": {
   "codemirror_mode": {
    "name": "ipython",
    "version": 3
   },
   "file_extension": ".py",
   "mimetype": "text/x-python",
   "name": "python",
   "nbconvert_exporter": "python",
   "pygments_lexer": "ipython3",
   "version": "3.9.7"
  }
 },
 "nbformat": 4,
 "nbformat_minor": 5
}
