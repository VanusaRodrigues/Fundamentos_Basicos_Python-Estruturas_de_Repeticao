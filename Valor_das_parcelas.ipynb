{
 "cells": [
  {
   "cell_type": "markdown",
   "id": "e6a7704e",
   "metadata": {},
   "source": [
    "41. Faça um programa que receba o valor de uma dívida e mostre uma tabela com os seguintes dados: valor da dívida, valor dos juros, quantidade de parcelas e valor da parcela. <br><br>\n",
    "Os juros e a quantidade de parcelas seguem a tabela abaixo: <br>\n",
    "\n",
    "       Qtde Parcelas ---- % de Juros sobre o valor inicial da dívida <br>\n",
    "\n",
    "    -------------      1   ----------------------     0 <br>\n",
    "    -------------      3   ----------------------     10 <br>\n",
    "    -------------      6   ----------------------     15 <br>\n",
    "    -------------      9   ----------------------     20 <br>\n",
    "    -------------     12  ---------------------     25 <br><br>\n",
    "\n",
    "Exemplo de saída do programa: <br><br>\n",
    "\n",
    "       Valor da Dívida - Juros - Qtde. Parcelas - Valor da Parcela\n",
    "         RS 1.000,00       0            1            RS  1.000,00 \n",
    "         RS 1.100,00      100           3            RS    366,00 \n",
    "         RS 1.150,00      150           6            RS    191,67 "
   ]
  },
  {
   "cell_type": "code",
   "execution_count": 2,
   "id": "d6c63f22",
   "metadata": {},
   "outputs": [
    {
     "name": "stdout",
     "output_type": "stream",
     "text": [
      "Informe o valor da dívida: R$ 1000\n",
      "\n",
      "Valor da Dívida     -     Juros     -     Qtde. Parcelas     -     Valor da Parcela\n",
      "R$  1.000,00           R$    0,00              1                    R$   1.000,00\n",
      "R$  1.100,00           R$  100,00              3                    R$     366,67\n",
      "R$  1.150,00           R$  150,00              6                    R$     191,67\n",
      "R$  1.200,00           R$  200,00              9                    R$     133,33\n",
      "R$  1.250,00           R$  250,00              12                   R$     104,17\n"
     ]
    }
   ],
   "source": [
    "divida = float(input('Informe o valor da dívida: R$ ')) # pedir ao usuário para informar o valor da dívida \n",
    "\n",
    "juros = [0, 0.1, 0.15, 0.2, 0.25] # lista com os juros\n",
    "qtde_parcelas = [1, 3, 6, 9, 12] # lista com as quantidades de parcelas\n",
    "\n",
    "\n",
    "print('\\nValor da Dívida     -     Juros     -     Qtde. Parcelas     -     Valor da Parcela') # imprime o cabeçalho da tabela\n",
    "for i, div in enumerate(qtde_parcelas): # para cada item da lista de parcelas\n",
    "    divida_com_juros = divida # definir divida com juros como valor inicial da dívida informada pelo usuário (senão o sistema calcula juros sobre juros)\n",
    "    divida_com_juros += (divida * juros[i]) # calcula valor da dívida com juros\n",
    "    valor_parcelas = divida_com_juros / qtde_parcelas[i] # calcula valor das parcelas\n",
    "    print(f'R$ {divida_com_juros:^10_.2f}          R$ {divida * juros[i]:>7_.2f} {qtde_parcelas[i]:^28}      R$ {valor_parcelas:>10_.2f}'.replace('.', ',').replace('_', '.'))\n"
   ]
  }
 ],
 "metadata": {
  "kernelspec": {
   "display_name": "Python 3 (ipykernel)",
   "language": "python",
   "name": "python3"
  },
  "language_info": {
   "codemirror_mode": {
    "name": "ipython",
    "version": 3
   },
   "file_extension": ".py",
   "mimetype": "text/x-python",
   "name": "python",
   "nbconvert_exporter": "python",
   "pygments_lexer": "ipython3",
   "version": "3.9.7"
  }
 },
 "nbformat": 4,
 "nbformat_minor": 5
}
