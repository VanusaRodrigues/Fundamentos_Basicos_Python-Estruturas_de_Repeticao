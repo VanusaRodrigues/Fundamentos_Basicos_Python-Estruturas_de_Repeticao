{
 "cells": [
  {
   "cell_type": "markdown",
   "id": "f2961cd3",
   "metadata": {},
   "source": [
    "# Série de Fibonacci até valor maior que 500\n",
    "\n",
    "16. A série de Fibonacci é formada pela seqüência 0,1,1,2,3,5,8,13,21,34,55,... Faça um programa que gere a série até que o valor seja maior que 500."
   ]
  },
  {
   "cell_type": "code",
   "execution_count": 28,
   "id": "d40218f5",
   "metadata": {},
   "outputs": [
    {
     "name": "stdout",
     "output_type": "stream",
     "text": [
      "[1, 1, 2, 3, 5, 8, 13, 21, 34, 55, 89, 144, 233, 377]\n"
     ]
    }
   ],
   "source": [
    "fibonacci = [1] # começa a sequência com o primeiro número da série de Fibonacci: 1\n",
    "\n",
    "num_sequencia = 1 # segundo número da sequência (e próximos, conforme for sendo somado no loop)\n",
    "\n",
    "i = 1 # índice\n",
    "\n",
    "while num_sequencia <= 500: # enquanto último número for menor ou igual a 500\n",
    "    fibonacci.append(num_sequencia) # acrescenta o próximo número da sequência\n",
    "    num_sequencia += fibonacci[i -1] # próximo número = último número + antepenúltimo número\n",
    "    i += 1 # soma 1 no índice e retorna para o início do loop\n",
    "\n",
    "print(fibonacci)"
   ]
  }
 ],
 "metadata": {
  "kernelspec": {
   "display_name": "Python 3 (ipykernel)",
   "language": "python",
   "name": "python3"
  },
  "language_info": {
   "codemirror_mode": {
    "name": "ipython",
    "version": 3
   },
   "file_extension": ".py",
   "mimetype": "text/x-python",
   "name": "python",
   "nbconvert_exporter": "python",
   "pygments_lexer": "ipython3",
   "version": "3.9.7"
  }
 },
 "nbformat": 4,
 "nbformat_minor": 5
}
