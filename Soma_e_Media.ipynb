{
 "cells": [
  {
   "cell_type": "markdown",
   "id": "93b58678",
   "metadata": {},
   "source": [
    "# Soma e Média\n",
    "\n",
    "8. Faça um programa que leia 5 números e informe a soma e a média dos números."
   ]
  },
  {
   "cell_type": "code",
   "execution_count": 15,
   "id": "b5e73909",
   "metadata": {},
   "outputs": [
    {
     "name": "stdout",
     "output_type": "stream",
     "text": [
      "Informe o 1º número: 15.6\n",
      "Informe o 2º número: 74.6\n",
      "Informe o 3º número: 45.9\n",
      "Informe o 4º número: 50\n",
      "Informe o 5º número: 26\n",
      "----------\n",
      "Soma: 212.1\n",
      "Média: 42.42\n"
     ]
    }
   ],
   "source": [
    "lista = []\n",
    "for i in range(5):\n",
    "    numero = float(input(f'Informe o {i + 1}º número: '))\n",
    "    lista.append(numero)\n",
    "\n",
    "print('-' * 10)\n",
    "print(f'Soma: {sum(lista)}')\n",
    "print(f'Média: {sum(lista) / 5:.2f}')"
   ]
  }
 ],
 "metadata": {
  "kernelspec": {
   "display_name": "Python 3 (ipykernel)",
   "language": "python",
   "name": "python3"
  },
  "language_info": {
   "codemirror_mode": {
    "name": "ipython",
    "version": 3
   },
   "file_extension": ".py",
   "mimetype": "text/x-python",
   "name": "python",
   "nbconvert_exporter": "python",
   "pygments_lexer": "ipython3",
   "version": "3.9.7"
  }
 },
 "nbformat": 4,
 "nbformat_minor": 5
}
