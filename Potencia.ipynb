{
 "cells": [
  {
   "cell_type": "markdown",
   "id": "6ebc6276",
   "metadata": {},
   "source": [
    "# Potência\n",
    "\n",
    "13. Faça um programa que peça dois números, base e expoente, calcule e mostre o primeiro número elevado ao segundo número. Não utilize a função de potência da linguagem."
   ]
  },
  {
   "cell_type": "code",
   "execution_count": 24,
   "id": "cb21dfed",
   "metadata": {},
   "outputs": [
    {
     "name": "stdout",
     "output_type": "stream",
     "text": [
      "Informe a base: 2\n",
      "Informe o expoente: 10\n",
      "\n",
      "O número 2 elevado a 10ª potência é igual a 1024.\n"
     ]
    }
   ],
   "source": [
    "# com o for\n",
    "\n",
    "base = int(input('Informe a base: '))\n",
    "expoente = int(input('Informe o expoente: '))\n",
    "\n",
    "potencia = 1\n",
    "\n",
    "for i in range(expoente):\n",
    "    potencia *= base # potência = base X base pelo número de vezes do expoente\n",
    "\n",
    "print(f'\\nO número {base} elevado a {expoente}ª potência é igual a {potencia}.')"
   ]
  },
  {
   "cell_type": "code",
   "execution_count": 25,
   "id": "8b393d04",
   "metadata": {},
   "outputs": [
    {
     "name": "stdout",
     "output_type": "stream",
     "text": [
      "Informe a base: 2\n",
      "Informe o expoente: 10\n",
      "\n",
      "O número 2 elevado a 10ª potência é igual a 1024.\n"
     ]
    }
   ],
   "source": [
    "# com o while \n",
    "\n",
    "base = int(input('Informe a base: '))\n",
    "expoente = int(input('Informe o expoente: '))\n",
    "\n",
    "potencia = 1\n",
    "i = 0\n",
    "\n",
    "while i < expoente:\n",
    "    potencia *= base\n",
    "    i += 1\n",
    "\n",
    "print(f'\\nO número {base} elevado a {expoente}ª potência é igual a {potencia}.')\n",
    "    "
   ]
  }
 ],
 "metadata": {
  "kernelspec": {
   "display_name": "Python 3 (ipykernel)",
   "language": "python",
   "name": "python3"
  },
  "language_info": {
   "codemirror_mode": {
    "name": "ipython",
    "version": 3
   },
   "file_extension": ".py",
   "mimetype": "text/x-python",
   "name": "python",
   "nbconvert_exporter": "python",
   "pygments_lexer": "ipython3",
   "version": "3.9.7"
  }
 },
 "nbformat": 4,
 "nbformat_minor": 5
}
