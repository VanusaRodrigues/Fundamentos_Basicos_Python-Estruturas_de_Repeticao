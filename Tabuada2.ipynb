{
 "cells": [
  {
   "cell_type": "markdown",
   "id": "6e734a3c",
   "metadata": {},
   "source": [
    "36. Desenvolva um programa que faça a tabuada de um número qualquer inteiro que será digitado pelo usuário, mas a tabuada não deve necessariamente iniciar em 1 e terminar em 10, o valor inicial e final devem ser informados também pelo usuário, conforme exemplo abaixo: <br><br>\n",
    "Montar a tabuada de: 5 <br>\n",
    "Começar por: 4 <br>\n",
    "Terminar em: 7 <br>\n",
    "<br>\n",
    "Vou montar a tabuada de 5 começando em 4 e terminando em 7: <br>\n",
    "5 X 4 = 20 <br>\n",
    "5 X 5 = 25 <br>\n",
    "5 X 6 = 30 <br>\n",
    "5 X 7 = 35 <br>\n",
    "Obs: Você deve verificar se o usuário não digitou o final menor que o inicial."
   ]
  },
  {
   "cell_type": "code",
   "execution_count": 2,
   "id": "ae4c5b77",
   "metadata": {},
   "outputs": [
    {
     "name": "stdout",
     "output_type": "stream",
     "text": [
      "Montar a tabuada de: 5\n",
      "Começar por: 7\n",
      "Terminar em: 4\n",
      "O começo da tabuada deve ser menor que o fim! Informe início e fim novamente:\n",
      "Começar por: 4\n",
      "Terminar em: 7\n",
      "\n",
      "Vou montar a tabuada do 5 começando em 4 e terminando em 7:\n",
      "5 X 4 = 20\n",
      "5 X 5 = 25\n",
      "5 X 6 = 30\n",
      "5 X 7 = 35\n"
     ]
    }
   ],
   "source": [
    "numero = int(input('Montar a tabuada de: ')) # informa o número da tabuada\n",
    "inicio = int(input('Começar por: ')) # informa o início da tabuada \n",
    "fim = int(input('Terminar em: ')) # informa o fim da tabuada\n",
    "\n",
    "tabuada = [] # lista que armazenará os resultados da tabuada\n",
    "\n",
    "while inicio > fim: # verifica se início não é maior que o fim\n",
    "    print('O começo da tabuada deve ser menor que o fim! Informe início e fim novamente:') # se for, pede para tentar novamente\n",
    "    inicio = int(input('Começar por: ')) # informa o início da tabuada novamente\n",
    "    fim = int(input('Terminar em: ')) # informa o fim da tabuada novamente\n",
    "\n",
    "i = inicio # contador terá início de acordo com o início da tabuada informado pelo usuário\n",
    "\n",
    "while i <= fim: # enquanto contador não chegar até o fim da tabuada informado pelo usuário\n",
    "    resultado = numero * i # multiplica número X 1, número X 2 ... número X n e armazena na variável resultado\n",
    "    tabuada.append(resultado) # acrescenta resultados na lista tabuada\n",
    "    i += 1 # acrescenta 1 no contador\n",
    "\n",
    "print(f'\\nVou montar a tabuada do {numero} começando em {inicio} e terminando em {fim}:')\n",
    "\n",
    "for i in range(len(tabuada)): # para cada item na lista tabuada\n",
    "    print(f'{numero} X {inicio} = {tabuada[i]}') # imprime a tabuada\n",
    "    inicio += 1 # adiciona 1 à variável inicio\n",
    "    "
   ]
  }
 ],
 "metadata": {
  "kernelspec": {
   "display_name": "Python 3 (ipykernel)",
   "language": "python",
   "name": "python3"
  },
  "language_info": {
   "codemirror_mode": {
    "name": "ipython",
    "version": 3
   },
   "file_extension": ".py",
   "mimetype": "text/x-python",
   "name": "python",
   "nbconvert_exporter": "python",
   "pygments_lexer": "ipython3",
   "version": "3.9.7"
  }
 },
 "nbformat": 4,
 "nbformat_minor": 5
}
