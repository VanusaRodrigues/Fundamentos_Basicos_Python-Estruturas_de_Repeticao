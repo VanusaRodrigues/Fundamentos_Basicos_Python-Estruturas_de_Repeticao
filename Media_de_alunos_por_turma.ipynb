{
 "cells": [
  {
   "cell_type": "markdown",
   "id": "0d4f267d",
   "metadata": {},
   "source": [
    "26. Numa eleição existem três candidatos. Faça um programa que peça o número total de eleitores. Peça para cada eleitor votar e ao final mostrar o número de votos de cada candidato."
   ]
  },
  {
   "cell_type": "code",
   "execution_count": 9,
   "id": "43b2b7d8",
   "metadata": {},
   "outputs": [
    {
     "name": "stdout",
     "output_type": "stream",
     "text": [
      "Informe a quantidade de turmas: 8\n",
      "Informe a quantidade de alunos da 1ª turma: 15\n",
      "Informe a quantidade de alunos da 2ª turma: 40\n",
      "Informe a quantidade de alunos da 3ª turma: 23\n",
      "Informe a quantidade de alunos da 4ª turma: 56\n",
      "Quantidade de alunos inválida!\n",
      "Informe novamente a quantidade de alunos da 4ª turma: 36\n",
      "Informe a quantidade de alunos da 5ª turma: 25\n",
      "Informe a quantidade de alunos da 6ª turma: 10\n",
      "Informe a quantidade de alunos da 7ª turma: 1\n",
      "Informe a quantidade de alunos da 8ª turma: 80\n",
      "Quantidade de alunos inválida!\n",
      "Informe novamente a quantidade de alunos da 8ª turma: 30\n",
      "\n",
      "Quantidade de turmas: 8 \n",
      "Quantidade total de alunos: 114 \n",
      "Média de alunos por turma: 14.2\n"
     ]
    }
   ],
   "source": [
    "qtde_turmas = int(input('Informe a quantidade de turmas: '))\n",
    "\n",
    "soma_alunos = 0\n",
    "media = 0 \n",
    "\n",
    "for i in range(qtde_turmas):\n",
    "    qtde_alunos = int(input(f'Informe a quantidade de alunos da {i + 1}ª turma: '))\n",
    "    if qtde_alunos < 1 or qtde_alunos > 40:\n",
    "        print('Quantidade de alunos inválida!')\n",
    "        qtde_alunos = int(input(f'Informe novamente a quantidade de alunos da {i + 1}ª turma: '))\n",
    "    else:\n",
    "        soma_alunos += qtde_alunos\n",
    "\n",
    "media = soma_alunos / qtde_turmas\n",
    "\n",
    "print(f'\\nQuantidade de turmas: {qtde_turmas} \\nQuantidade total de alunos: {soma_alunos} \\nMédia de alunos por turma: {media:.1f}')\n"
   ]
  }
 ],
 "metadata": {
  "kernelspec": {
   "display_name": "Python 3 (ipykernel)",
   "language": "python",
   "name": "python3"
  },
  "language_info": {
   "codemirror_mode": {
    "name": "ipython",
    "version": 3
   },
   "file_extension": ".py",
   "mimetype": "text/x-python",
   "name": "python",
   "nbconvert_exporter": "python",
   "pygments_lexer": "ipython3",
   "version": "3.9.7"
  }
 },
 "nbformat": 4,
 "nbformat_minor": 5
}
