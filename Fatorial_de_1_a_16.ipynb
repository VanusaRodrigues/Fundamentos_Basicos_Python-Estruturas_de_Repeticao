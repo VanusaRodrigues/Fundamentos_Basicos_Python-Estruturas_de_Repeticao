{
 "cells": [
  {
   "cell_type": "markdown",
   "id": "e754ed0e",
   "metadata": {},
   "source": [
    "# Fatorial de 1 a 16\n",
    "\n",
    "20. Altere o programa de cálculo do fatorial, permitindo ao usuário calcular o fatorial várias vezes e limitando o fatorial a números inteiros positivos e menores que 16."
   ]
  },
  {
   "cell_type": "code",
   "execution_count": 35,
   "id": "083d9e0f",
   "metadata": {},
   "outputs": [
    {
     "name": "stdout",
     "output_type": "stream",
     "text": [
      "Informe um número de 1 até 15 (aperte \"0\" para sair): -1\n",
      "Número inválido!\n",
      "Informe um número de 1 até 15 (aperte \"0\" para sair): 17\n",
      "Número inválido!\n",
      "Informe um número de 1 até 15 (aperte \"0\" para sair): 1\n",
      "1! = 1\n",
      "Informe um número de 1 até 15 (aperte \"0\" para sair): 2\n",
      "2! = 2\n",
      "Informe um número de 1 até 15 (aperte \"0\" para sair): 16\n",
      "16! = 20922789888000\n",
      "Informe um número de 1 até 15 (aperte \"0\" para sair): 15\n",
      "15! = 1307674368000\n",
      "Informe um número de 1 até 15 (aperte \"0\" para sair): 14\n",
      "14! = 87178291200\n",
      "Informe um número de 1 até 15 (aperte \"0\" para sair): 13\n",
      "13! = 6227020800\n",
      "Informe um número de 1 até 15 (aperte \"0\" para sair): 5\n",
      "5! = 120\n",
      "Informe um número de 1 até 15 (aperte \"0\" para sair): 3\n",
      "3! = 6\n",
      "Informe um número de 1 até 15 (aperte \"0\" para sair): 0\n",
      "Programa encerrado.\n"
     ]
    }
   ],
   "source": [
    "numero = int(input('Informe um número de 1 até 15 (aperte \"0\" para sair): '))\n",
    "numero_anterior = numero - 1 # define número-1 pelo qual o número será multiplicado\n",
    "fatorial = numero # cria variável fatorial\n",
    "num = numero # armazena o número fornecido para usar no print\n",
    "\n",
    "while True:\n",
    "    if numero == 0: # se usuário apertar a tecla '0', encerra o programa\n",
    "        print('Programa encerrado.')\n",
    "        break\n",
    "    while numero < 0 or numero > 16: # se número informado estiver fora do intervalor de 1 a 16\n",
    "        print('Número inválido!') # informa que é inválido, tenta novamente\n",
    "        numero = int(input('Informe um número de 1 até 15 (aperte \"0\" para sair): '))\n",
    "        numero_anterior = numero - 1 \n",
    "        fatorial = numero\n",
    "        num = numero\n",
    "    while numero == 1: # se número informado for = 1\n",
    "        print('1! = 1') # imprime '1! = 1', abre caixinha para informar novo número\n",
    "        numero = int(input('Informe um número de 1 até 15 (aperte \"0\" para sair): '))\n",
    "        numero_anterior = numero - 1 \n",
    "        fatorial = numero\n",
    "        num = numero\n",
    "    while numero > 1 and numero <= 16: # se número informado estiver entre 1 e 16\n",
    "        if numero_anterior < numero: # enquanto número anterior for menor que o número informado\n",
    "            fatorial *= numero_anterior # número X número-1\n",
    "            numero -= 1 # tira 1 do número\n",
    "            numero_anterior = numero - 1 # tira 1 do número-1\n",
    "            if numero == 1: # quando número chegar a = 1\n",
    "                print(f'{num}! = {fatorial}') # imprime fatorial, abre caixinha para novo número\n",
    "                numero = int(input('Informe um número de 1 até 15 (aperte \"0\" para sair): '))\n",
    "                numero_anterior = numero - 1 \n",
    "                fatorial = numero\n",
    "                num = numero"
   ]
  }
 ],
 "metadata": {
  "kernelspec": {
   "display_name": "Python 3 (ipykernel)",
   "language": "python",
   "name": "python3"
  },
  "language_info": {
   "codemirror_mode": {
    "name": "ipython",
    "version": 3
   },
   "file_extension": ".py",
   "mimetype": "text/x-python",
   "name": "python",
   "nbconvert_exporter": "python",
   "pygments_lexer": "ipython3",
   "version": "3.9.7"
  }
 },
 "nbformat": 4,
 "nbformat_minor": 5
}
