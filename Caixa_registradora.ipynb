{
 "cells": [
  {
   "cell_type": "markdown",
   "id": "ead9bcb6",
   "metadata": {},
   "source": [
    "31. O Sr. Manoel Joaquim expandiu seus negócios para além dos negócios de 1,99 e agora possui uma loja de conveniências. Faça um programa que implemente uma caixa registradora rudimentar. O programa deverá receber um número desconhecido de valores referentes aos preços das mercadorias. Um valor zero deve ser informado pelo operador para indicar o final da compra. O programa deve então mostrar o total da compra e perguntar o valor em dinheiro que o cliente forneceu, para então calcular e mostrar o valor do troco. Após esta operação, o programa deverá voltar ao ponto inicial, para registrar a próxima compra. A saída deve ser conforme o exemplo abaixo: <br><br>\n",
    "Lojas Tabajara <br> \n",
    "Produto 1: RS 3.20 <br>\n",
    "Produto 2: RS 5.80 <br>\n",
    "Produto 3: RS 0 <br>\n",
    "Total: RS 9.00 <br>\n",
    "Dinheiro: RS 20.00 <br>\n",
    "Troco: RS 11.00 <br>\n",
    "..."
   ]
  },
  {
   "cell_type": "code",
   "execution_count": 4,
   "id": "8183c47f",
   "metadata": {},
   "outputs": [
    {
     "name": "stdout",
     "output_type": "stream",
     "text": [
      "Pressione \"0\" para sair - Produto 1 - Preço: R$ 3.2\n",
      "Pressione \"0\" para sair - Produto 2 - Preço: R$ -5\n",
      "Preço inválido!\n",
      "Insira novamente o preço do Produto 2: R$ 5.80\n",
      "Pressione \"0\" para sair - Produto 3 - Preço: R$ 0\n",
      "\n",
      "LOJAS TABAJARA\n",
      "Produto 1: R$ 3.20\n",
      "Produto 2: R$ 5.80\n",
      "Total: R$ 9.00\n",
      "Dinheiro: R$ 20.00\n",
      "Troco: R$ 11.00\n"
     ]
    }
   ],
   "source": [
    "lista_precos = [] # armazenará todos os valores (preços) fornecidos\n",
    "i = 1 # contador para aparecer no input 'Produto 1', 'Produto 2', etc\n",
    "\n",
    "preco = float(input(f'Pressione \"0\" para sair - Produto {i} - Preço: R$ ')) # pede para o usuário informar o preço do primeiro produto\n",
    "\n",
    "while preco != 0: # enquanto usuário não pressionar a tecla \"0\"\n",
    "    if preco < 0: # se informar preço for negativo, aletar que é inválido e pedir para inserir novamente\n",
    "        print('Preço inválido!')\n",
    "        preco = float(input(f'Insira novamente o preço do Produto {i}: R$ ')) \n",
    "    else: # se preço positivo\n",
    "        lista_precos.append(preco) # adicionar na lista_precos\n",
    "        i += 1 # adicionar 1 ao contador\n",
    "        preco = float(input(f'Pressione \"0\" para sair - Produto {i} - Preço: R$ ')) # pede para o usuário informar o preço dos demais produtos\n",
    "else: # quando usuário pressionar tecla \"0\"\n",
    "    print('\\nLOJAS TABAJARA') # imprimir nome da loja\n",
    "\n",
    "    for i in range(len(lista_precos)): # para cada item na lista_precos\n",
    "        print(f'Produto {i + 1}: R$ {lista_precos[i]:.2f}') # imprime na tela o número do produto e seu preço\n",
    "    \n",
    "    print(f'Total: R$ {sum(lista_precos):.2f}') # imprime na tela a soma dos preços\n",
    "    \n",
    "    dinheiro = float(input('Dinheiro: R$ ')) # pede para informar o valor pago (em dinheiro) e imprime na tela\n",
    "    \n",
    "    print(f'Troco: R$ {dinheiro - sum(lista_precos):.2f}') # imprime na tela o troco (valor recebido - preço total)"
   ]
  }
 ],
 "metadata": {
  "kernelspec": {
   "display_name": "Python 3 (ipykernel)",
   "language": "python",
   "name": "python3"
  },
  "language_info": {
   "codemirror_mode": {
    "name": "ipython",
    "version": 3
   },
   "file_extension": ".py",
   "mimetype": "text/x-python",
   "name": "python",
   "nbconvert_exporter": "python",
   "pygments_lexer": "ipython3",
   "version": "3.9.7"
  }
 },
 "nbformat": 4,
 "nbformat_minor": 5
}
