{
 "cells": [
  {
   "cell_type": "markdown",
   "id": "5e4977f4",
   "metadata": {},
   "source": [
    "# Validar Informações\n",
    "\n",
    "3. Faça um programa que leia e valide as seguintes informações: <br>\n",
    "Nome: maior que 3 caracteres; <br>\n",
    "Idade: entre 0 e 150; <br>\n",
    "Salário: maior que zero; <br>\n",
    "Sexo: 'f' ou 'm'; <br>\n",
    "Estado Civil: 's', 'c', 'v', 'd'"
   ]
  },
  {
   "cell_type": "code",
   "execution_count": 3,
   "id": "8f2ade5b",
   "metadata": {},
   "outputs": [
    {
     "name": "stdout",
     "output_type": "stream",
     "text": [
      "Nome (deve conter pelo menos três caracteres). Aperte a tecla enter na caixa vazia para sair: vanusa\n",
      "Idade (entre 0 e 150): 32\n",
      "Salário (maior que 0): R$ 10000\n",
      "F = Feminino / M = Masculino: f\n",
      "S = Solteiro / C = Casado / V = Viúvo / D = Divorciado: s\n",
      "\n",
      "Nome: VANUSA \n",
      "Idade: 32 \n",
      "Salário: R$ 10.000,00 \n",
      "Sexo: Feminino \n",
      "Estado Civil: Solteiro\n"
     ]
    }
   ],
   "source": [
    "i = 0\n",
    "\n",
    "while i == 0: # enquanto variável i = 0, repetir os códigos abaixo:\n",
    "    # NOME\n",
    "    nome = input('Nome (deve conter pelo menos três caracteres). Aperte a tecla enter na caixa vazia para sair: ').upper()\n",
    "    if not nome: # se apertar tecla enter, interrompe o programa\n",
    "        print('Programa encerrado.')\n",
    "        break\n",
    "    while len(nome) < 3: # se nome tiver menos de 3 caracteres, tentar novamente\n",
    "        print('O nome deve conter pelo menos três caracteres. Tente novamente.')\n",
    "        nome = input('Nome: ').upper() # upper no final para deixar tudo maiúsculo, evitando erros\n",
    "    # IDADE\n",
    "    idade = int(input('Idade (entre 0 e 150): ')) \n",
    "    while idade < 0 or idade > 150: # se digitar algum número que não esteja entre 0 e 150, tentar novamente\n",
    "        print('A idade deve estar entre 0 e 150. Tente novamente.')\n",
    "        idade = int(input('Idade: '))\n",
    "    # SALARIO\n",
    "    salario = float(input('Salário (maior que 0): R$ '))\n",
    "    while salario < 0: # se informar salário abaixo de 0, tentar novamente\n",
    "        print('Salário deve ser maior que R$ 0,00. Tente novamente.')\n",
    "        salario = float(input('Salário: '))\n",
    "    # SEXO\n",
    "    sexo = input('F = Feminino / M = Masculino: ').upper() # upper no final para deixar tudo maiúsculo, evitando erros\n",
    "    while sexo != 'F' and sexo != 'M':\n",
    "        print('Digite F para \"Feminino\" ou M para \"Masculino\".')\n",
    "        sexo = input('Sexo: ').upper()\n",
    "    # ESTADO CIVIL\n",
    "    estado_civil = input('S = Solteiro / C = Casado / V = Viúvo / D = Divorciado: ').upper() \n",
    "                                                                    # upper no final para deixar tudo maiúsculo, evitando erros\n",
    "    while estado_civil != 'S' and estado_civil != 'C' and estado_civil != 'V' and estado_civil != 'D':\n",
    "        print('Digite S para \"Solteiro, C para \"Casado\", V para \"Viúvo\" ou D para \"Divorciado\".')\n",
    "        estado_civil = input('Estado Civil: ').upper()\n",
    "    i += 1 # variável i = 1, interrompe o loop while\n",
    "\n",
    "sexo_abrev = ['F', 'M']\n",
    "sexo_extenso = ['Feminino', 'Masculino'] # definindo sexo por extenso para aparecer no print, em vez de apenas a sigla\n",
    "\n",
    "estado_civil_abrev = ['S', 'C', 'V', 'D']\n",
    "estado_civil_extenso = ['Solteiro', 'Casado', 'Viúvo', 'Divorciado'] # definindo estado civil por extenso p/ aparecer no print, \n",
    "                                                                     # em vez de apenas a sigla\n",
    "\n",
    "if nome:\n",
    "    for i_sexo, item_sexo in enumerate(sexo_abrev):\n",
    "        for i_estado, item_estado in enumerate(estado_civil_abrev):\n",
    "            if sexo == sexo_abrev[i_sexo]:\n",
    "                if estado_civil == estado_civil_abrev[i_estado]:\n",
    "                    print(f'\\nNome: {nome} \\nIdade: {idade} \\nSalário: R$ {salario:_.2f} \\nSexo: {sexo_extenso[i_sexo]} \\nEstado Civil: {estado_civil_extenso[i_estado]}'.replace('.', ',').replace('_', '.'))\n",
    "                      "
   ]
  }
 ],
 "metadata": {
  "kernelspec": {
   "display_name": "Python 3 (ipykernel)",
   "language": "python",
   "name": "python3"
  },
  "language_info": {
   "codemirror_mode": {
    "name": "ipython",
    "version": 3
   },
   "file_extension": ".py",
   "mimetype": "text/x-python",
   "name": "python",
   "nbconvert_exporter": "python",
   "pygments_lexer": "ipython3",
   "version": "3.9.7"
  }
 },
 "nbformat": 4,
 "nbformat_minor": 5
}
