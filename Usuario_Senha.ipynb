{
 "cells": [
  {
   "cell_type": "markdown",
   "id": "778504d8",
   "metadata": {},
   "source": [
    "# Usuário e Senha\n",
    "\n",
    "2. Faça um programa que leia um nome de usuário e a sua senha e não aceite a senha igual ao nome do usuário, mostrando uma mensagem de erro e voltando a pedir as informações."
   ]
  },
  {
   "cell_type": "code",
   "execution_count": 2,
   "id": "cc6f9954",
   "metadata": {},
   "outputs": [
    {
     "name": "stdout",
     "output_type": "stream",
     "text": [
      "Informe um nome de usuário: vanusa\n",
      "Defina uma senha: vanusa\n",
      "A senha não pode ser igual ao nome do usuário. Defina nova senha.\n",
      "Usuário: vanusa\n",
      "Senha: rodrigues\n",
      "Usuário cadastrado com sucesso!\n"
     ]
    }
   ],
   "source": [
    "usuario = input('Informe um nome de usuário: ')\n",
    "senha = input('Defina uma senha: ')\n",
    "\n",
    "while senha == usuario:\n",
    "    print('A senha não pode ser igual ao nome do usuário. Defina nova senha.')\n",
    "    usuario = input('Usuário: ')\n",
    "    senha = input('Senha: ')\n",
    "\n",
    "print('Usuário cadastrado com sucesso!')"
   ]
  }
 ],
 "metadata": {
  "kernelspec": {
   "display_name": "Python 3 (ipykernel)",
   "language": "python",
   "name": "python3"
  },
  "language_info": {
   "codemirror_mode": {
    "name": "ipython",
    "version": 3
   },
   "file_extension": ".py",
   "mimetype": "text/x-python",
   "name": "python",
   "nbconvert_exporter": "python",
   "pygments_lexer": "ipython3",
   "version": "3.9.7"
  }
 },
 "nbformat": 4,
 "nbformat_minor": 5
}
