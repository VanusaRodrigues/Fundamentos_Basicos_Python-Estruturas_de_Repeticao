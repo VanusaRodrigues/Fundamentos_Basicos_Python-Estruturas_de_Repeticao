{
 "cells": [
  {
   "cell_type": "markdown",
   "id": "9a8ac198",
   "metadata": {},
   "source": [
    "# Maior valor, menor valor e soma (números entre 0 e 1000)\n",
    "\n",
    "19. Altere o programa anterior para que ele aceite apenas números entre 0 e 1000."
   ]
  },
  {
   "cell_type": "code",
   "execution_count": 32,
   "id": "c41ed632",
   "metadata": {},
   "outputs": [
    {
     "name": "stdout",
     "output_type": "stream",
     "text": [
      "Informe um número (para finalizar aperte a tecla \"0\"): 45\n",
      "Informe um número (para finalizar aperte a tecla \"0\"): 85\n",
      "Informe um número (para finalizar aperte a tecla \"0\"): 74\n",
      "Informe um número (para finalizar aperte a tecla \"0\"): 426\n",
      "Informe um número (para finalizar aperte a tecla \"0\"): 5621\n",
      "Número inválido! Tente novamente (para finalizar aperte a tecla \"0\"): 999\n",
      "Informe um número (para finalizar aperte a tecla \"0\"): 1000\n",
      "Informe um número (para finalizar aperte a tecla \"0\"): 1\n",
      "Informe um número (para finalizar aperte a tecla \"0\"): 72\n",
      "Informe um número (para finalizar aperte a tecla \"0\"): 0\n",
      "Programa encerrado.\n",
      "--------------------------------------------------\n",
      "[1000, 999, 426, 85, 74, 72, 45, 1]\n",
      "Soma: 2702\n",
      "Maior: 1000\n",
      "Menor: 1\n"
     ]
    }
   ],
   "source": [
    "lista = []\n",
    "\n",
    "numero = int(input(f'Informe um número (para finalizar aperte a tecla \"0\"): '))\n",
    "\n",
    "while True: \n",
    "    if numero == 0: # encerra o programa se digitar 0\n",
    "        print('Programa encerrado.')\n",
    "        break\n",
    "    while numero > 0 and numero <= 1000: # se o nº informado estiver entre 1 e 1000 (inclusive), adiciona na lista e abre caixinha para inserir novo número\n",
    "        lista.append(numero)\n",
    "        numero = int(input(f'Informe um número (para finalizar aperte a tecla \"0\"): '))\n",
    "    while numero < 0 or numero > 1000: # se não, informa que o número é inválido e abre caixinha para inserir novamente\n",
    "        numero = int(input('Número inválido! Tente novamente (para finalizar aperte a tecla \"0\"): '))\n",
    "\n",
    "lista.sort(reverse = True) # ordena a lista formada em ordem decrescente\n",
    "if (len(lista) > 1) and (lista[-1] == 0): # se a lista tiver mais de um número e o último for 0\n",
    "    lista.remove(lista[-1]) # remove o 0 da lista (tem que fazer, senão, aparecerá sempre 0 como o menor nº informado)\n",
    "print('-' * 50) # ------------- (separador)\n",
    "print(lista) # imprime a lista em ordem decrescente\n",
    "\n",
    "if (len(lista) >= 1): # se a lista tiver ao menos um número (tem que fazer se não dá erro se digitar 0 e encerrar o programa de primeira, sem item na lista)\n",
    "    print(f'Soma: {sum(lista)}') # soma\n",
    "    print(f'Maior: {max(lista)}') # informa o maior\n",
    "    print(f'Menor: {min(lista)}') # informa o menor\n"
   ]
  }
 ],
 "metadata": {
  "kernelspec": {
   "display_name": "Python 3 (ipykernel)",
   "language": "python",
   "name": "python3"
  },
  "language_info": {
   "codemirror_mode": {
    "name": "ipython",
    "version": 3
   },
   "file_extension": ".py",
   "mimetype": "text/x-python",
   "name": "python",
   "nbconvert_exporter": "python",
   "pygments_lexer": "ipython3",
   "version": "3.9.7"
  }
 },
 "nbformat": 4,
 "nbformat_minor": 5
}
