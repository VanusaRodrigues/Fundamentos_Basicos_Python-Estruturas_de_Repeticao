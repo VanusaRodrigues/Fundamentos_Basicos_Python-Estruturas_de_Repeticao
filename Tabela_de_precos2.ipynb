{
 "cells": [
  {
   "cell_type": "markdown",
   "id": "e6007cee",
   "metadata": {},
   "source": [
    "30. O Sr. Manoel Joaquim acaba de adquirir uma panificadora e pretende implantar a metodologia da tabelinha, que já é um sucesso na sua loja de 1,99. Você foi contratado para desenvolver o programa que monta a tabela de preços de pães, de 1 até 50 pães, a partir do preço do pão informado pelo usuário, conforme o exemplo abaixo: <br><br>\n",
    "Preço do pão: RS 0.18 <br>\n",
    "Panificadora Pão de Ontem - Tabela de preços <br>\n",
    "        1 - RS 0.18 \n",
    "        2 - RS 0.36 \n",
    "        ... \n",
    "        50 - RS 9.00 "
   ]
  },
  {
   "cell_type": "code",
   "execution_count": 3,
   "id": "55bfd207",
   "metadata": {},
   "outputs": [
    {
     "name": "stdout",
     "output_type": "stream",
     "text": [
      "Informe o preço unitário do pão: R$ 0.18\n",
      "\n",
      "Preço do pão: R$ 0.18\n",
      "\n",
      "PANIFICADORA PÃO DE ONTEM \n",
      "\n",
      "Tabela de Preços: \n",
      "\n",
      "1 - R$ 0.18\n",
      "2 - R$ 0.36\n",
      "3 - R$ 0.54\n",
      "4 - R$ 0.72\n",
      "5 - R$ 0.90\n",
      "6 - R$ 1.08\n",
      "7 - R$ 1.26\n",
      "8 - R$ 1.44\n",
      "9 - R$ 1.62\n",
      "10 - R$ 1.80\n",
      "11 - R$ 1.98\n",
      "12 - R$ 2.16\n",
      "13 - R$ 2.34\n",
      "14 - R$ 2.52\n",
      "15 - R$ 2.70\n",
      "16 - R$ 2.88\n",
      "17 - R$ 3.06\n",
      "18 - R$ 3.24\n",
      "19 - R$ 3.42\n",
      "20 - R$ 3.60\n",
      "21 - R$ 3.78\n",
      "22 - R$ 3.96\n",
      "23 - R$ 4.14\n",
      "24 - R$ 4.32\n",
      "25 - R$ 4.50\n",
      "26 - R$ 4.68\n",
      "27 - R$ 4.86\n",
      "28 - R$ 5.04\n",
      "29 - R$ 5.22\n",
      "30 - R$ 5.40\n",
      "31 - R$ 5.58\n",
      "32 - R$ 5.76\n",
      "33 - R$ 5.94\n",
      "34 - R$ 6.12\n",
      "35 - R$ 6.30\n",
      "36 - R$ 6.48\n",
      "37 - R$ 6.66\n",
      "38 - R$ 6.84\n",
      "39 - R$ 7.02\n",
      "40 - R$ 7.20\n",
      "41 - R$ 7.38\n",
      "42 - R$ 7.56\n",
      "43 - R$ 7.74\n",
      "44 - R$ 7.92\n",
      "45 - R$ 8.10\n",
      "46 - R$ 8.28\n",
      "47 - R$ 8.46\n",
      "48 - R$ 8.64\n",
      "49 - R$ 8.82\n",
      "50 - R$ 9.00\n"
     ]
    }
   ],
   "source": [
    "preco = float(input('Informe o preço unitário do pão: R$ '))\n",
    "\n",
    "preco2 = 0 # multiplicação dos preços\n",
    "qtde = 50 # quantidade máxima de pães\n",
    "\n",
    "print(f'\\nPreço do pão: R$ {preco}')\n",
    "print('\\nPANIFICADORA PÃO DE ONTEM \\n\\nTabela de Preços: \\n')\n",
    "\n",
    "\n",
    "for i in range(qtde): # para cada quantidade de 1 a 50\n",
    "    preco2 = preco * (i + 1) # multiplique o preço unitário (1,99) pela quantidade de itens\n",
    "    print(f'{i + 1} - R$ {preco2:.2f}') # imprima na tela a quantidade de produtos e seu respectivo preço"
   ]
  }
 ],
 "metadata": {
  "kernelspec": {
   "display_name": "Python 3 (ipykernel)",
   "language": "python",
   "name": "python3"
  },
  "language_info": {
   "codemirror_mode": {
    "name": "ipython",
    "version": 3
   },
   "file_extension": ".py",
   "mimetype": "text/x-python",
   "name": "python",
   "nbconvert_exporter": "python",
   "pygments_lexer": "ipython3",
   "version": "3.9.7"
  }
 },
 "nbformat": 4,
 "nbformat_minor": 5
}
