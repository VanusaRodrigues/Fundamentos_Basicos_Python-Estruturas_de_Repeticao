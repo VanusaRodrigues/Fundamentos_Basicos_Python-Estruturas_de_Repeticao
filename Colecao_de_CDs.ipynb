{
 "cells": [
  {
   "cell_type": "markdown",
   "id": "49f6686e",
   "metadata": {},
   "source": [
    "28. Faça um programa que calcule o valor total investido por um colecionador em sua coleção de CDs e o valor médio gasto em cada um deles. O usuário deverá informar a quantidade de CDs e o valor de cada um."
   ]
  },
  {
   "cell_type": "code",
   "execution_count": 1,
   "id": "c562abef",
   "metadata": {},
   "outputs": [
    {
     "name": "stdout",
     "output_type": "stream",
     "text": [
      "Informe a quantidade CDs: 10\n",
      "Informe o valor do 1º CD: R$ 49.90\n",
      "Informe o valor do 2º CD: R$ 25.50\n",
      "Informe o valor do 3º CD: R$ 19.90\n",
      "Informe o valor do 4º CD: R$ 32.90\n",
      "Informe o valor do 5º CD: R$ 27.80\n",
      "Informe o valor do 6º CD: R$ 25.70\n",
      "Informe o valor do 7º CD: R$ 37.40\n",
      "Informe o valor do 8º CD: R$ 26.00\n",
      "Informe o valor do 9º CD: R$ 38.80\n",
      "Informe o valor do 10º CD: R$ 17.50\n",
      "\n",
      "Quantidade de CDs da coleção: 10 \n",
      "Total investido: R$ 301.40 \n",
      "Média de valor: R$ 30.14\n"
     ]
    }
   ],
   "source": [
    "lista_precos = [] # armazenará os preços de todos os CDs\n",
    "media = 0 # armazenará o cálculo da média de preços\n",
    "\n",
    "qtde_cds = int(input('Informe a quantidade CDs: ')) # solicita a quantidade de CDs da coleção\n",
    "\n",
    "for i in range(qtde_cds): # para cada CDs existente na coleção:\n",
    "    valor_cds = float(input(f'Informe o valor do {i + 1}º CD: R$ ')) # informe seu preço\n",
    "    lista_precos.append(valor_cds) # armazene o preço informado na lista_precos\n",
    "    i += 1 # soma 1 ao contador (quantidade de CDs)\n",
    "    \n",
    "    \n",
    "media = sum(lista_precos) / qtde_cds # calcula a média\n",
    "\n",
    "print(f'\\nQuantidade de CDs da coleção: {qtde_cds} \\nTotal investido: R$ {sum(lista_precos):.2f} \\nMédia de valor: R$ {media:.2f}')"
   ]
  }
 ],
 "metadata": {
  "kernelspec": {
   "display_name": "Python 3 (ipykernel)",
   "language": "python",
   "name": "python3"
  },
  "language_info": {
   "codemirror_mode": {
    "name": "ipython",
    "version": 3
   },
   "file_extension": ".py",
   "mimetype": "text/x-python",
   "name": "python",
   "nbconvert_exporter": "python",
   "pygments_lexer": "ipython3",
   "version": "3.9.7"
  }
 },
 "nbformat": 4,
 "nbformat_minor": 5
}
