{
 "cells": [
  {
   "cell_type": "markdown",
   "id": "481c12ab",
   "metadata": {},
   "source": [
    "# Número Primo até o n-ésimo número\n",
    "\n",
    "23. Faça um programa que mostre todos os primos entre 1 e N sendo N um número inteiro fornecido pelo usuário. O programa deverá mostrar também o número de divisões que ele executou para encontrar os números primos. Serão avaliados o funcionamento, o estilo e o número de testes (divisões) executados."
   ]
  },
  {
   "cell_type": "code",
   "execution_count": 37,
   "id": "defaeea1",
   "metadata": {},
   "outputs": [
    {
     "name": "stdout",
     "output_type": "stream",
     "text": [
      "Digite um número: 500\n",
      "\n",
      "Números primos: [2, 3, 5, 7, 11, 13, 17, 19, 23, 29, 31, 37, 41, 43, 47, 53, 59, 61, 67, 71, 73, 79, 83, 89, 97, 101, 103, 107, 109, 113, 127, 131, 137, 139, 149, 151, 157, 163, 167, 173, 179, 181, 191, 193, 197, 199, 211, 223, 227, 229, 233, 239, 241, 251, 257, 263, 269, 271, 277, 281, 283, 293, 307, 311, 313, 317, 331, 337, 347, 349, 353, 359, 367, 373, 379, 383, 389, 397, 401, 409, 419, 421, 431, 433, 439, 443, 449, 457, 461, 463, 467, 479, 487, 491, 499]\n",
      "\n",
      "Número de divisões: 125250\n"
     ]
    }
   ],
   "source": [
    "numero = int(input(\"Digite um número: \"))\n",
    "primos = []\n",
    "divisoes = 0 \n",
    "cont = 0 \n",
    "resto = 0 \n",
    "\n",
    "numero += 1 # acrescenta 1 para poder diminuir 1 dentro do while (voltando ao número informado no input)\n",
    "\n",
    "while range(numero): # testa cada número até chegar ao número informado no input\n",
    "    numero -= 1 \n",
    "    cont = 0 # iniciar como 0 o contador de quantas divisões não deixam resto\n",
    "    for denominador in range(numero): \n",
    "        denominador += 1 # somar 1 ao denominador para fazer numero X 1, numero X 2, numero X 3 ... até numero X numero\n",
    "        divisoes += 1 # soma 1 ao contador divisões para cada divisão feita na próxima linha\n",
    "        resto = numero % denominador # salva o resto de cada divisão na variável resto\n",
    "        if resto == 0: # se variável resto = 0\n",
    "            cont += 1 # soma 1 no contador das divisões que não deixam resto\n",
    "        if denominador == numero and cont == 2: # quando o denominador for igual ao número informado...\n",
    "                                            # (ou seja, quando o loop tiver sido completado), se o contador for igual a 2... \n",
    "                                        # significa que aquele número só é divisível por 1 e por ele mesmo, portanto, é primo\n",
    "            primos.append(numero) # assim, deverá ser acrescentado à lista de número primos\n",
    "\n",
    "primos.sort() # colocar a lista de número primos em ordem crescente    \n",
    "\n",
    "print(f'\\nNúmeros primos: {primos}')\n",
    "print(f'\\nNúmero de divisões: {divisoes}')\n"
   ]
  }
 ],
 "metadata": {
  "kernelspec": {
   "display_name": "Python 3 (ipykernel)",
   "language": "python",
   "name": "python3"
  },
  "language_info": {
   "codemirror_mode": {
    "name": "ipython",
    "version": 3
   },
   "file_extension": ".py",
   "mimetype": "text/x-python",
   "name": "python",
   "nbconvert_exporter": "python",
   "pygments_lexer": "ipython3",
   "version": "3.9.7"
  }
 },
 "nbformat": 4,
 "nbformat_minor": 5
}
