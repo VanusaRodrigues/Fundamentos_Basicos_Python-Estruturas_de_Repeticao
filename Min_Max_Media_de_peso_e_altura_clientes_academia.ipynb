{
 "cells": [
  {
   "cell_type": "markdown",
   "id": "94a568bf",
   "metadata": {},
   "source": [
    "37. Uma academia deseja fazer um senso entre seus clientes para descobrir o mais alto, o mais baixo, a mais gordo e o mais magro, para isto você deve fazer um programa que pergunte a cada um dos clientes da academia seu código, sua altura e seu peso. O final da digitação de dados deve ser dada quando o usuário digitar 0 (zero) no campo código. Ao encerrar o programa também devem ser informados os códigos e valores do cliente mais alto, do mais baixo, do mais gordo e do mais magro, além da média das alturas e dos pesos dos clientes."
   ]
  },
  {
   "cell_type": "code",
   "execution_count": 1,
   "id": "4e70b510",
   "metadata": {},
   "outputs": [
    {
     "name": "stdout",
     "output_type": "stream",
     "text": [
      "Código do Cliente (pressione \"0\" para sair): 1\n",
      "Altura (em m): 1.74\n",
      "Peso (em kg): 78\n",
      "Código do Cliente (pressione \"0\" para sair): 2\n",
      "Altura (em m): 1.69\n",
      "Peso (em kg): 67.8\n",
      "Código do Cliente (pressione \"0\" para sair): 3\n",
      "Altura (em m): 1.85\n",
      "Peso (em kg): 90.3\n",
      "Código do Cliente (pressione \"0\" para sair): 4\n",
      "Altura (em m): 1.56\n",
      "Peso (em kg): 49.7\n",
      "Código do Cliente (pressione \"0\" para sair): 5\n",
      "Altura (em m): 1.68\n",
      "Peso (em kg): 57.4\n",
      "Código do Cliente (pressione \"0\" para sair): 0\n",
      "Programa encerrado\n",
      "\n",
      "CLIENTE MAIS ALTO: \n",
      "Código: 3 \n",
      "Altura: 1.85m\n",
      "\n",
      "CLIENTE MAIS BAIXO: \n",
      "Código: 4 \n",
      "Altura: 1.56m\n",
      "\n",
      "CLIENTE DE MAIOR PESO: \n",
      "Código: 3 \n",
      "Peso: 90.3kg\n",
      "\n",
      "CLIENTE DE MENOR PESO: \n",
      "Código: 4 \n",
      "Peso: 49.7kg\n",
      "\n",
      "MÉDIA (ALTURA): 1.70m\n",
      "\n",
      "MÉDIA (PESO): 68.64kg\n"
     ]
    }
   ],
   "source": [
    "lista_codigo = [] # cria lista para armazenar os códigos dos clientes\n",
    "lista_altura = [] # cria lista para armazenar as alturas dos clientes\n",
    "lista_peso = [] # cria lista para armazenar os pesos dos clientes\n",
    "\n",
    "i = 0 # contador\n",
    "\n",
    "while True: # enquanto verdade:\n",
    "    codigo_cliente = int(input('Código do Cliente (pressione \"0\" para sair): ')) # usuário informa código do cliente\n",
    "    if codigo_cliente == 0: # se o código do cliente for igual a 0:\n",
    "        print('Programa encerrado') # imprimir \"programa encerrado\"\n",
    "        break # sair do loop while\n",
    "    elif codigo_cliente != 0: # se o código do cliente for diferente de 0:\n",
    "        altura = float(input('Altura (em m): ')) # pedir para usuário informar a altura do cliente\n",
    "        peso = float(input('Peso (em kg): ')) # pedir para usuário informar o peso do cliente\n",
    "        lista_codigo.append(codigo_cliente) # adicionar o código do cliente à lista_codigo\n",
    "        lista_altura.append(altura) # adicionar a altura do cliente à lista_altura\n",
    "        lista_peso.append(peso) # adicionar o peso do cliente à lista_peso\n",
    "        i += 1 # adicionar 1 ao contador\n",
    "\n",
    "for i, alt in enumerate(lista_altura): # para cada item da lista_altura, enumerar:\n",
    "    if alt == min(lista_altura) and len(lista_altura) > 0: # se o item for o menor e a lista tiver ao menos um item (para não dar erro de divisão por zero):\n",
    "        print(f'\\nCLIENTE MAIS BAIXO: \\nCódigo: {lista_codigo[i]} \\nAltura: {min(lista_altura)}m') # imprime o código e a altura do cliente mais baixo\n",
    "    elif alt == max(lista_altura) and len(lista_altura) > 0: # se o item for o maior e a lista tiver ao menos um item (para não dar erro de divisão por zero):\n",
    "        print(f'\\nCLIENTE MAIS ALTO: \\nCódigo: {lista_codigo[i]} \\nAltura: {max(lista_altura)}m') # imprime o código e a altura do cliente mais alto\n",
    "\n",
    "for i, peso in enumerate(lista_peso): # para cada item da lista_peso, enumerar:\n",
    "    if peso == min(lista_peso) and len(lista_peso) > 0: # se o item for o menor e a lista tiver ao menos um item (para não dar erro de divisão por zero):\n",
    "        print(f'\\nCLIENTE DE MENOR PESO: \\nCódigo: {lista_codigo[i]} \\nPeso: {min(lista_peso)}kg') # imprime o código e o peso do cliente de menor peso\n",
    "    elif peso == max(lista_peso) and len(lista_peso) > 0: # se o item for o maior e a lista tiver ao menos um item (para não dar erro de divisão por zero):\n",
    "        print(f'\\nCLIENTE DE MAIOR PESO: \\nCódigo: {lista_codigo[i]} \\nPeso: {max(lista_peso)}kg') # imprime o código e o peso do cliente de maior peso\n",
    "\n",
    "if len(lista_altura) > 0 and len(lista_altura) > 0: # se as listas de altura e de peso tiverem ao menos um item (para não dar erro de divisão por zero):\n",
    "    print(f'\\nMÉDIA (ALTURA): {(sum(lista_altura) / len(lista_altura)):.2f}m') # calcula e imprime a média de altura\n",
    "    print(f'\\nMÉDIA (PESO): {(sum(lista_peso) / len(lista_peso)):.2f}kg') # calcula e imprime a média de peso\n",
    "    "
   ]
  }
 ],
 "metadata": {
  "kernelspec": {
   "display_name": "Python 3 (ipykernel)",
   "language": "python",
   "name": "python3"
  },
  "language_info": {
   "codemirror_mode": {
    "name": "ipython",
    "version": 3
   },
   "file_extension": ".py",
   "mimetype": "text/x-python",
   "name": "python",
   "nbconvert_exporter": "python",
   "pygments_lexer": "ipython3",
   "version": "3.9.7"
  }
 },
 "nbformat": 4,
 "nbformat_minor": 5
}
