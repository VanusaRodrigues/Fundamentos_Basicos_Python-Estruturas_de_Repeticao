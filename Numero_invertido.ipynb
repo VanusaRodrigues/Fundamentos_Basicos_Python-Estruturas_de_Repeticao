{
 "cells": [
  {
   "cell_type": "markdown",
   "id": "9ebf992e",
   "metadata": {},
   "source": [
    "48. Faça um programa que peça um numero inteiro positivo e em seguida mostre este numero invertido. <br>\n",
    "Exemplo: <br>\n",
    "  12376489 <br>\n",
    "  => 98467321 <br>"
   ]
  },
  {
   "cell_type": "code",
   "execution_count": 5,
   "id": "c25e7c59",
   "metadata": {},
   "outputs": [
    {
     "name": "stdout",
     "output_type": "stream",
     "text": [
      "Informe um número inteiro positivo (aperte Enter para sair): 14526\n",
      "62541\n",
      "Informe um número inteiro positivo (aperte Enter para sair): -8745\n",
      "Número inválido! Tente novamente.\n",
      "Informe um número inteiro positivo (aperte Enter para sair): 9874563210\n",
      "0123654789\n",
      "Informe um número inteiro positivo (aperte Enter para sair): \n",
      "Programa encerrado.\n"
     ]
    }
   ],
   "source": [
    "# usando [::-1]\n",
    "\n",
    "while True: # enquanto verdade\n",
    "    numero = input('Informe um número inteiro positivo (aperte Enter para sair): ') # pedir para usuário informar um número (input string)\n",
    "    if numero == '': # se usuário apertar Enter:\n",
    "        print('Programa encerrado.') # imprimir \"Programa encerrado\"\n",
    "        break # encerrar o loop\n",
    "    else: # se não apertar Enter\n",
    "        numero = int(numero) # converter a string informada em número inteiro\n",
    "        if numero < 0: # se número for negativo:\n",
    "            print('Número inválido! Tente novamente.') # imprimir na tela que o número é inválido e pedir para tentar novamente\n",
    "        else: # se número maior ou igual a 0:\n",
    "            numero = str(numero) # converter número para string\n",
    "            print(numero[::-1]) # imprimir na tela invertido\n",
    "            "
   ]
  },
  {
   "cell_type": "code",
   "execution_count": 6,
   "id": "1af87238",
   "metadata": {},
   "outputs": [
    {
     "name": "stdout",
     "output_type": "stream",
     "text": [
      "Informe um número inteiro positivo (aperte Enter para sair): 14523\n",
      "32541\n",
      "Informe um número inteiro positivo (aperte Enter para sair): -7425\n",
      "Número inválido! Tente novamente.\n",
      "Informe um número inteiro positivo (aperte Enter para sair): -85562\n",
      "Número inválido! Tente novamente.\n",
      "Informe um número inteiro positivo (aperte Enter para sair): 0123456789\n",
      "987654321\n",
      "Informe um número inteiro positivo (aperte Enter para sair): \n",
      "Programa encerrado.\n"
     ]
    }
   ],
   "source": [
    "# usando função reversed\n",
    "\n",
    "while True: # enquanto verdade\n",
    "    numero = input('Informe um número inteiro positivo (aperte Enter para sair): ') # pedir para usuário informar um número (input string)\n",
    "    if numero == '': # se usuário apertar Enter:\n",
    "        print('Programa encerrado.') # imprimir \"Programa encerrado\"\n",
    "        break # encerrar o loop\n",
    "    else: # se não apertar Enter\n",
    "        numero = int(numero) # converter a string informada em número inteiro\n",
    "        if numero < 0: # se número for negativo:\n",
    "            print('Número inválido! Tente novamente.') # imprimir na tela que o número é inválido e pedir para tentar novamente\n",
    "        else: # se número maior ou igual a 0:\n",
    "            numero = str(numero) # converter número para string\n",
    "            print(''.join(reversed(numero))) # imprimir na tela invertido\n",
    "            "
   ]
  }
 ],
 "metadata": {
  "kernelspec": {
   "display_name": "Python 3 (ipykernel)",
   "language": "python",
   "name": "python3"
  },
  "language_info": {
   "codemirror_mode": {
    "name": "ipython",
    "version": 3
   },
   "file_extension": ".py",
   "mimetype": "text/x-python",
   "name": "python",
   "nbconvert_exporter": "python",
   "pygments_lexer": "ipython3",
   "version": "3.9.7"
  }
 },
 "nbformat": 4,
 "nbformat_minor": 5
}
