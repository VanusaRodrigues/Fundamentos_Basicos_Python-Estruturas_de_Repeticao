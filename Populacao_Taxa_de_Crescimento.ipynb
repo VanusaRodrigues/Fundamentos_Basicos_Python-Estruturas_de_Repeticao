{
 "cells": [
  {
   "cell_type": "markdown",
   "id": "e3235d19",
   "metadata": {},
   "source": [
    "# População / Taxa de Crescimento\n",
    "\n",
    "4. Supondo que a população de um país A seja da ordem de 80000 habitantes com uma taxa anual de crescimento de 3% e que a população de B seja 200000 habitantes com uma taxa de crescimento de 1.5%. Faça um programa que calcule e escreva o número de anos necessários para que a população do país A ultrapasse ou iguale a população do país B, mantidas as taxas de crescimento."
   ]
  },
  {
   "cell_type": "code",
   "execution_count": 1,
   "id": "0b861a60",
   "metadata": {},
   "outputs": [
    {
     "name": "stdout",
     "output_type": "stream",
     "text": [
      "Para que a população do País A ultrapasse a população do país B serão necessários 63 anos.\n",
      "O País A terá 515.033 habitantes e o País B terá 510.964 habitantes.\n"
     ]
    }
   ],
   "source": [
    "hab_A = 80000\n",
    "tx_cresc_A = 0.03\n",
    "\n",
    "hab_B = 200000\n",
    "tx_cresc_B = 0.015\n",
    "\n",
    "ano = 0\n",
    "\n",
    "while hab_A < hab_B:\n",
    "    hab_A += (hab_A * tx_cresc_A)\n",
    "    hab_B += (hab_B * tx_cresc_B)\n",
    "    ano += 1\n",
    "\n",
    "print(f'Para que a população do País A ultrapasse a população do país B serão necessários {ano} anos.')\n",
    "print(f'O País A terá {hab_A:_.0f} habitantes e o País B terá {hab_B:_.0f} habitantes.'.replace('_', '.'))"
   ]
  }
 ],
 "metadata": {
  "kernelspec": {
   "display_name": "Python 3 (ipykernel)",
   "language": "python",
   "name": "python3"
  },
  "language_info": {
   "codemirror_mode": {
    "name": "ipython",
    "version": 3
   },
   "file_extension": ".py",
   "mimetype": "text/x-python",
   "name": "python",
   "nbconvert_exporter": "python",
   "pygments_lexer": "ipython3",
   "version": "3.9.7"
  }
 },
 "nbformat": 4,
 "nbformat_minor": 5
}
