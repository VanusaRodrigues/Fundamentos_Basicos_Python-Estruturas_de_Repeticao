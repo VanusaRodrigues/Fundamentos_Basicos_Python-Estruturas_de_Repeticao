{
 "cells": [
  {
   "cell_type": "markdown",
   "id": "3ebee1ab",
   "metadata": {},
   "source": [
    "# Soma do intervalo entre dois números\n",
    "\n",
    "11. Altere o programa anterior para mostrar no final a soma dos números."
   ]
  },
  {
   "cell_type": "code",
   "execution_count": 22,
   "id": "6f40d02c",
   "metadata": {},
   "outputs": [
    {
     "name": "stdout",
     "output_type": "stream",
     "text": [
      "Informe o 1º número: 10\n",
      "Informe o 2º número: 20\n",
      "Os números que estão no intervalo compreendido entre 10 e 20 são: [11, 12, 13, 14, 15, 16, 17, 18, 19].\n",
      "A soma dos números acima é igual a 135.\n"
     ]
    }
   ],
   "source": [
    "num1 = int(input('Informe o 1º número: '))\n",
    "num2 = int(input('Informe o 2º número: '))\n",
    "\n",
    "lista = []\n",
    "for num in range(num1 + 1, num2):\n",
    "    lista.append(num)\n",
    "    \n",
    "print(f'Os números que estão no intervalo compreendido entre {num1} e {num2} são: {lista}.')\n",
    "print(f'A soma dos números acima é igual a {sum(lista)}.')"
   ]
  }
 ],
 "metadata": {
  "kernelspec": {
   "display_name": "Python 3 (ipykernel)",
   "language": "python",
   "name": "python3"
  },
  "language_info": {
   "codemirror_mode": {
    "name": "ipython",
    "version": 3
   },
   "file_extension": ".py",
   "mimetype": "text/x-python",
   "name": "python",
   "nbconvert_exporter": "python",
   "pygments_lexer": "ipython3",
   "version": "3.9.7"
  }
 },
 "nbformat": 4,
 "nbformat_minor": 5
}
