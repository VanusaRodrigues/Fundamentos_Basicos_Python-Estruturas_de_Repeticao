{
 "cells": [
  {
   "cell_type": "markdown",
   "id": "b951c856",
   "metadata": {},
   "source": [
    "39. Faça um programa que leia dez conjuntos de dois valores, o primeiro representando o número do aluno e o segundo representando a sua altura em centímetros. Encontre o aluno mais alto e o mais baixo. Mostre o número do aluno mais alto e o número do aluno mais baixo, junto com suas alturas."
   ]
  },
  {
   "cell_type": "code",
   "execution_count": 4,
   "id": "833a8a32",
   "metadata": {},
   "outputs": [
    {
     "name": "stdout",
     "output_type": "stream",
     "text": [
      "Número do aluno: 001\n",
      "Altura (em cm): 178\n",
      "Número do aluno: 002\n",
      "Altura (em cm): 145\n",
      "Número do aluno: 003\n",
      "Altura (em cm): 174\n",
      "Número do aluno: 004\n",
      "Altura (em cm): 157\n",
      "Número do aluno: 005\n",
      "Altura (em cm): 185\n",
      "Número do aluno: 006\n",
      "Altura (em cm): 153\n",
      "Número do aluno: 007\n",
      "Altura (em cm): 163\n",
      "Número do aluno: 008\n",
      "Altura (em cm): 169\n",
      "Número do aluno: 009\n",
      "Altura (em cm): 189\n",
      "Número do aluno: 010\n",
      "Altura (em cm): 152\n",
      "\n",
      "ALUNO MAIS BAIXO: \n",
      "Número: 2 \n",
      "Altura: 145cm\n",
      "\n",
      "ALUNO MAIS ALTO: \n",
      "Número: 9 \n",
      "Altura: 189cm\n"
     ]
    }
   ],
   "source": [
    "lista_numero = [] # cria lista para armazenar os números dos alunos\n",
    "lista_altura = [] # cria lista para armazenar as alturas dos alunos\n",
    "\n",
    "i = 0 # contador\n",
    "\n",
    "while i < 10: # enquanto contador for menor que 10:\n",
    "    numero_aluno = int(input('Número do aluno: ')) # usuário informa número do aluno\n",
    "    altura = int(input('Altura (em cm): ')) # usuário informa a altura do aluno\n",
    "    lista_numero.append(numero_aluno) # adicionar o número do aluno à lista_numero\n",
    "    lista_altura.append(altura) # adicionar a altura do aluno à lista_altura\n",
    "    i += 1 # adicionar 1 ao contador\n",
    "\n",
    "for i, alt in enumerate(lista_altura): # para cada item da lista_altura, enumerar:\n",
    "    if alt == max(lista_altura): # se o item for o maior:\n",
    "        print(f'\\nALUNO MAIS ALTO: \\nNúmero: {lista_numero[i]} \\nAltura: {max(lista_altura)}cm') # imprime o número e a altura do aluno mais alto\n",
    "    elif alt == min(lista_altura) and len(lista_altura) > 0: # se o item for o menor:\n",
    "        print(f'\\nALUNO MAIS BAIXO: \\nNúmero: {lista_numero[i]} \\nAltura: {min(lista_altura)}cm') # imprime o número e a altura do aluno mais baixo"
   ]
  }
 ],
 "metadata": {
  "kernelspec": {
   "display_name": "Python 3 (ipykernel)",
   "language": "python",
   "name": "python3"
  },
  "language_info": {
   "codemirror_mode": {
    "name": "ipython",
    "version": 3
   },
   "file_extension": ".py",
   "mimetype": "text/x-python",
   "name": "python",
   "nbconvert_exporter": "python",
   "pygments_lexer": "ipython3",
   "version": "3.9.7"
  }
 },
 "nbformat": 4,
 "nbformat_minor": 5
}
