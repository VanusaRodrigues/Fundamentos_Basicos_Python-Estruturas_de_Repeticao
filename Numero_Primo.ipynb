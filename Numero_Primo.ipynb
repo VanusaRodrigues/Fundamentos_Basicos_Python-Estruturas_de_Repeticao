{
 "cells": [
  {
   "cell_type": "markdown",
   "id": "103cef82",
   "metadata": {},
   "source": [
    "# Número Primo\n",
    "\n",
    "21. Faça um programa que peça um número inteiro e determine se ele é ou não um número primo. Um número primo é aquele que é divisível somente por ele mesmo e por 1."
   ]
  },
  {
   "cell_type": "code",
   "execution_count": 36,
   "id": "6740f5b6",
   "metadata": {},
   "outputs": [
    {
     "name": "stdout",
     "output_type": "stream",
     "text": [
      "Informe um número (aperte \"0\" para sair): 1\n",
      "Número 1 não é primo.\n",
      "Informe um número (aperte \"0\" para sair): 14\n",
      "O número 14 não é primo.\n",
      "Informe um número (aperte \"0\" para sair):15\n",
      "O número 15 não é primo.\n",
      "Informe um número (aperte \"0\" para sair):7\n",
      "O número 7 é primo.\n",
      "Informe um número (aperte \"0\" para sair):6\n",
      "O número 6 não é primo.\n",
      "Informe um número (aperte \"0\" para sair):2\n",
      "O número 2 é primo.\n",
      "Informe um número (aperte \"0\" para sair):89\n",
      "O número 89 é primo.\n",
      "Informe um número (aperte \"0\" para sair):42\n",
      "O número 42 não é primo.\n",
      "Informe um número (aperte \"0\" para sair):156\n",
      "O número 156 não é primo.\n",
      "Informe um número (aperte \"0\" para sair):349\n",
      "O número 349 é primo.\n",
      "Informe um número (aperte \"0\" para sair):847\n",
      "O número 847 não é primo.\n",
      "Informe um número (aperte \"0\" para sair):5236\n",
      "O número 5236 não é primo.\n",
      "Informe um número (aperte \"0\" para sair):1589\n",
      "O número 1589 não é primo.\n",
      "Informe um número (aperte \"0\" para sair):277\n",
      "O número 277 é primo.\n",
      "Informe um número (aperte \"0\" para sair):0\n",
      "Programa encerrado.\n"
     ]
    }
   ],
   "source": [
    "numero = int(input('Informe um número (aperte \"0\" para sair): '))\n",
    "\n",
    "cont = 0 # contador de quantas vezes dividiu o número por um número menor e teve resto = 0\n",
    "i = 0 # i é o número pelo qual o número informado será dividido\n",
    "    \n",
    "while True:\n",
    "    if numero == 0: # se usuário apertar a tecla '0', encerra o programa\n",
    "        print('Programa encerrado.')\n",
    "        break\n",
    "    while numero == 1: # se usuário apertar a tecla '1', informa que 1 não é primo\n",
    "        print('Número 1 não é primo.')\n",
    "        numero = int(input('Informe um número (aperte \"0\" para sair): '))\n",
    "    while i <= numero or cont < 2: # enquanto índice i for menor que o número informado, ou o contador for menor que 2\n",
    "        i += 1 # vai acrescentando 1 até chegar no i igual o próprio número, então para\n",
    "        resto = numero % i # divide número informado pelo índice i\n",
    "        if resto == 0: # se o resto for igual a 0\n",
    "            cont = cont + 1 # acrescenta 1 no contador\n",
    "            while i == numero and cont == 2: # quando i for igual ao número informado, \n",
    "                                    # se contador = 2 (ou seja, só teve resto = 0 dividindo por ele mesmo e por 1, então é primo)\n",
    "                if numero == 0: # se número = 0, encerra o programa\n",
    "                    break\n",
    "                else: # imprime que é primo e zera contador e índice, abrindo caixinha para inserir novo número\n",
    "                    print(f'O número {numero} é primo.')\n",
    "                    numero = int(input('Informe um número (aperte \"0\" para sair):'))\n",
    "                    cont = 0\n",
    "                    i = 0\n",
    "            while i == numero and cont != 2: # quando i for igual ao número informado, se contador != 2 \n",
    "                                # (ou seja, teve resto = 0 dividindo por outros números além dele mesmo e por 1, então não é primo)\n",
    "                if numero == 0: # se número = 0, encerra o programa\n",
    "                    break\n",
    "                else: # imprime que não é primo e zera contador e índice, abrindo caixinha para inserir novo número\n",
    "                    print(f'O número {numero} não é primo.')\n",
    "                    numero = int(input('Informe um número (aperte \"0\" para sair):'))\n",
    "                    cont = 0\n",
    "                    i = 0"
   ]
  }
 ],
 "metadata": {
  "kernelspec": {
   "display_name": "Python 3 (ipykernel)",
   "language": "python",
   "name": "python3"
  },
  "language_info": {
   "codemirror_mode": {
    "name": "ipython",
    "version": 3
   },
   "file_extension": ".py",
   "mimetype": "text/x-python",
   "name": "python",
   "nbconvert_exporter": "python",
   "pygments_lexer": "ipython3",
   "version": "3.9.7"
  }
 },
 "nbformat": 4,
 "nbformat_minor": 5
}
