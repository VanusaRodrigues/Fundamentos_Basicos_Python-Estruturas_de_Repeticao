{
 "cells": [
  {
   "cell_type": "markdown",
   "id": "62cc0aca",
   "metadata": {},
   "source": [
    "49. Faça um programa que mostre os n termos da Série a seguir: <br><br>\n",
    "  S = 1/1 + 2/3 + 3/5 + 4/7 + 5/9 + ... + n/m.  <br><br>\n",
    "Imprima no final a soma da série. <br>"
   ]
  },
  {
   "cell_type": "code",
   "execution_count": 1,
   "id": "2802fde2",
   "metadata": {},
   "outputs": [
    {
     "name": "stdout",
     "output_type": "stream",
     "text": [
      "Informe quantos termos a série deve ter: 15\n",
      "\n",
      "S = 1/1 + 2/3 + 3/5 + 4/7 + 5/9 + 6/11 + 7/13 + 8/15 + 9/17 + 10/19 + 11/21 + 12/23 + 13/25 + 14/27 + 15/29.\n",
      "\n",
      "Soma da série: 8.67\n"
     ]
    }
   ],
   "source": [
    "termo = int(input('Informe quantos termos a série deve ter: ')) # pedir para usuário informar quantos termos a série deverá ter\n",
    "\n",
    "serie_num = [1] # criar uma lista que receberá os numeradores já com o primeiro numerador definido (1)\n",
    "serie_den = [1] # criar uma lista que receberá os denominadores já com o primeiro denominador definido (1)\n",
    "serie = [] # criar uma lista que receberá os resultados das divisões entre os termos da serie_num / serie_den\n",
    "serie_str = [] # criar uma lista que concatenará os termos das serie_num/serie_den, formando posteriormente uma string a ser exibida na tela\n",
    "\n",
    "i = 1 # contador\n",
    "termos_num = 1 # iniciar termo que acrescentará 1 a cada numerador como 1\n",
    "termo_den = 1 # iniciar termo que acrescentará 2 a cada denominador como 1\n",
    "\n",
    "\n",
    "while i < termo: # enquanto o contador for menor que o termo:\n",
    "    termos_num += 1 # acrescentar 1 ao novo termo do numerador\n",
    "    termo_den += 2 # acrescentar 2 ao novo termo do denominador\n",
    "    serie_num.append(termos_num) # adicionar novo numerador à serie_num\n",
    "    serie_den.append(termo_den)  # adicionar novo denominador à serie_den\n",
    "    i += 1 # adicionar 1 ao contador\n",
    "else: # quando o contador i for igual ao termo informado pelo usuário:\n",
    "    for i, termos in enumerate(serie_num): # para cada termo da serie_num\n",
    "        termos = serie_num[i] / serie_den[i] # dividir esse termo pelo termo correspondente na serie_den\n",
    "        serie.append(termos) # acrescentar à lista serie o resultado da divisão efetuada acima\n",
    "\n",
    "serie_str = ['S = '] # iniciar a lista serie_str (que será convertida em string) com 'S = '\n",
    "for i, str_termos in enumerate(serie_num): # para cada termo da serie_num\n",
    "    str_termos = str(serie_num[i]) + '/' + str(serie_den[i]) + ' + ' # concatenar numa string (termo) numerador c/ denominador correspondente\n",
    "    serie_str.append(str_termos) # acrescentar à lista serie_str o termo formado acima (exemplo: '1/1 + ', '2/3 + ', etc.)\n",
    "\n",
    "serie_str = str(serie_str)[2:-5] # converter a lista serie_str em string para imprimir sem os colchetes e sem o último \"'+ '\"\n",
    "\n",
    "# imprimir na tela a string formada pela lista serie_str, substituindo os caracteres \"', '\" (que separa cada termo da lista) por vazio ''\n",
    "print(f'\\n{serie_str}.'.replace(\"', '\", '')) \n",
    "\n",
    "# imprimir na tela a soma da série\n",
    "print(f'\\nSoma da série: {sum(serie):.2f}') \n"
   ]
  }
 ],
 "metadata": {
  "kernelspec": {
   "display_name": "Python 3 (ipykernel)",
   "language": "python",
   "name": "python3"
  },
  "language_info": {
   "codemirror_mode": {
    "name": "ipython",
    "version": 3
   },
   "file_extension": ".py",
   "mimetype": "text/x-python",
   "name": "python",
   "nbconvert_exporter": "python",
   "pygments_lexer": "ipython3",
   "version": "3.9.7"
  }
 },
 "nbformat": 4,
 "nbformat_minor": 5
}
